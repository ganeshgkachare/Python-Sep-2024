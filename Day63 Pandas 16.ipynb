{
 "cells": [
  {
   "cell_type": "code",
   "execution_count": 1,
   "id": "dbba07aa-c398-4ac6-9fdd-92325ec0f65c",
   "metadata": {},
   "outputs": [],
   "source": [
    "import pandas as pd"
   ]
  },
  {
   "cell_type": "markdown",
   "id": "0bc5a982-7798-4c5c-a4e9-bfcd379753b4",
   "metadata": {},
   "source": [
    "### Groupby"
   ]
  },
  {
   "cell_type": "code",
   "execution_count": 2,
   "id": "fa9d03df-13fb-4f78-b62e-3a8e26d71f34",
   "metadata": {},
   "outputs": [],
   "source": [
    "# grouping the data according to the categories and applying a function to the categories. "
   ]
  },
  {
   "cell_type": "code",
   "execution_count": 3,
   "id": "c116951c-9c71-43ac-a625-ce57255bf877",
   "metadata": {},
   "outputs": [],
   "source": [
    "data=pd.read_excel(r\"C:\\Ganesh\\Minskole Python Batch\\Employee data.xlsx\")"
   ]
  },
  {
   "cell_type": "code",
   "execution_count": 4,
   "id": "dbc2a821-54f4-4cad-8b33-1430c6fc05d6",
   "metadata": {},
   "outputs": [
    {
     "data": {
      "text/html": [
       "<div>\n",
       "<style scoped>\n",
       "    .dataframe tbody tr th:only-of-type {\n",
       "        vertical-align: middle;\n",
       "    }\n",
       "\n",
       "    .dataframe tbody tr th {\n",
       "        vertical-align: top;\n",
       "    }\n",
       "\n",
       "    .dataframe thead th {\n",
       "        text-align: right;\n",
       "    }\n",
       "</style>\n",
       "<table border=\"1\" class=\"dataframe\">\n",
       "  <thead>\n",
       "    <tr style=\"text-align: right;\">\n",
       "      <th></th>\n",
       "      <th>Employee ID</th>\n",
       "      <th>Employee Name</th>\n",
       "      <th>Manager Name</th>\n",
       "      <th>Department</th>\n",
       "      <th>Qualification</th>\n",
       "      <th>Gender</th>\n",
       "      <th>Experience</th>\n",
       "      <th>Salary</th>\n",
       "    </tr>\n",
       "  </thead>\n",
       "  <tbody>\n",
       "    <tr>\n",
       "      <th>0</th>\n",
       "      <td>E001</td>\n",
       "      <td>Pooja Thorat</td>\n",
       "      <td>Vishal Bhosale</td>\n",
       "      <td>Finance</td>\n",
       "      <td>Bachelor</td>\n",
       "      <td>Female</td>\n",
       "      <td>18</td>\n",
       "      <td>103464</td>\n",
       "    </tr>\n",
       "    <tr>\n",
       "      <th>1</th>\n",
       "      <td>E002</td>\n",
       "      <td>Shruti Sawant</td>\n",
       "      <td>Neelam Sawant</td>\n",
       "      <td>Engineering</td>\n",
       "      <td>PhD</td>\n",
       "      <td>Male</td>\n",
       "      <td>9</td>\n",
       "      <td>126942</td>\n",
       "    </tr>\n",
       "    <tr>\n",
       "      <th>2</th>\n",
       "      <td>E003</td>\n",
       "      <td>Rupal Kulkarni</td>\n",
       "      <td>Aparna Jadhav</td>\n",
       "      <td>HR</td>\n",
       "      <td>PhD</td>\n",
       "      <td>Male</td>\n",
       "      <td>14</td>\n",
       "      <td>129882</td>\n",
       "    </tr>\n",
       "    <tr>\n",
       "      <th>3</th>\n",
       "      <td>E004</td>\n",
       "      <td>Shweta Pawar</td>\n",
       "      <td>Siddhi Bhosale</td>\n",
       "      <td>Sales</td>\n",
       "      <td>PhD</td>\n",
       "      <td>Male</td>\n",
       "      <td>2</td>\n",
       "      <td>71092</td>\n",
       "    </tr>\n",
       "    <tr>\n",
       "      <th>4</th>\n",
       "      <td>E005</td>\n",
       "      <td>Snehal Jadhav</td>\n",
       "      <td>Siddhi Rathod</td>\n",
       "      <td>Finance</td>\n",
       "      <td>Bachelor</td>\n",
       "      <td>Female</td>\n",
       "      <td>8</td>\n",
       "      <td>104760</td>\n",
       "    </tr>\n",
       "    <tr>\n",
       "      <th>...</th>\n",
       "      <td>...</td>\n",
       "      <td>...</td>\n",
       "      <td>...</td>\n",
       "      <td>...</td>\n",
       "      <td>...</td>\n",
       "      <td>...</td>\n",
       "      <td>...</td>\n",
       "      <td>...</td>\n",
       "    </tr>\n",
       "    <tr>\n",
       "      <th>95</th>\n",
       "      <td>E096</td>\n",
       "      <td>Gaurav Pawar</td>\n",
       "      <td>Siddhi Rathod</td>\n",
       "      <td>Engineering</td>\n",
       "      <td>Bachelor</td>\n",
       "      <td>Female</td>\n",
       "      <td>6</td>\n",
       "      <td>92906</td>\n",
       "    </tr>\n",
       "    <tr>\n",
       "      <th>96</th>\n",
       "      <td>E097</td>\n",
       "      <td>Tejas Mane</td>\n",
       "      <td>Sandeep Gore</td>\n",
       "      <td>Sales</td>\n",
       "      <td>Master</td>\n",
       "      <td>Male</td>\n",
       "      <td>8</td>\n",
       "      <td>64956</td>\n",
       "    </tr>\n",
       "    <tr>\n",
       "      <th>97</th>\n",
       "      <td>E098</td>\n",
       "      <td>Madhavi Kadam</td>\n",
       "      <td>Sandeep Rathod</td>\n",
       "      <td>Finance</td>\n",
       "      <td>PhD</td>\n",
       "      <td>Male</td>\n",
       "      <td>11</td>\n",
       "      <td>119764</td>\n",
       "    </tr>\n",
       "    <tr>\n",
       "      <th>98</th>\n",
       "      <td>E099</td>\n",
       "      <td>Neha Jadhav</td>\n",
       "      <td>Rajesh Patil</td>\n",
       "      <td>Sales</td>\n",
       "      <td>Diploma</td>\n",
       "      <td>Male</td>\n",
       "      <td>1</td>\n",
       "      <td>76522</td>\n",
       "    </tr>\n",
       "    <tr>\n",
       "      <th>99</th>\n",
       "      <td>E100</td>\n",
       "      <td>Neha Chavan</td>\n",
       "      <td>Shubham Rathod</td>\n",
       "      <td>Engineering</td>\n",
       "      <td>PhD</td>\n",
       "      <td>Female</td>\n",
       "      <td>12</td>\n",
       "      <td>63238</td>\n",
       "    </tr>\n",
       "  </tbody>\n",
       "</table>\n",
       "<p>100 rows × 8 columns</p>\n",
       "</div>"
      ],
      "text/plain": [
       "   Employee ID   Employee Name    Manager Name   Department Qualification  \\\n",
       "0         E001    Pooja Thorat  Vishal Bhosale      Finance      Bachelor   \n",
       "1         E002   Shruti Sawant   Neelam Sawant  Engineering           PhD   \n",
       "2         E003  Rupal Kulkarni   Aparna Jadhav           HR           PhD   \n",
       "3         E004    Shweta Pawar  Siddhi Bhosale        Sales           PhD   \n",
       "4         E005   Snehal Jadhav   Siddhi Rathod      Finance      Bachelor   \n",
       "..         ...             ...             ...          ...           ...   \n",
       "95        E096    Gaurav Pawar   Siddhi Rathod  Engineering      Bachelor   \n",
       "96        E097      Tejas Mane    Sandeep Gore        Sales        Master   \n",
       "97        E098   Madhavi Kadam  Sandeep Rathod      Finance           PhD   \n",
       "98        E099     Neha Jadhav    Rajesh Patil        Sales       Diploma   \n",
       "99        E100     Neha Chavan  Shubham Rathod  Engineering           PhD   \n",
       "\n",
       "    Gender  Experience  Salary  \n",
       "0   Female          18  103464  \n",
       "1     Male           9  126942  \n",
       "2     Male          14  129882  \n",
       "3     Male           2   71092  \n",
       "4   Female           8  104760  \n",
       "..     ...         ...     ...  \n",
       "95  Female           6   92906  \n",
       "96    Male           8   64956  \n",
       "97    Male          11  119764  \n",
       "98    Male           1   76522  \n",
       "99  Female          12   63238  \n",
       "\n",
       "[100 rows x 8 columns]"
      ]
     },
     "execution_count": 4,
     "metadata": {},
     "output_type": "execute_result"
    }
   ],
   "source": [
    "data"
   ]
  },
  {
   "cell_type": "code",
   "execution_count": null,
   "id": "c48c2b86-5995-4d9c-8375-f17a364aa220",
   "metadata": {},
   "outputs": [],
   "source": []
  },
  {
   "cell_type": "code",
   "execution_count": 5,
   "id": "e47c7ff2-09ca-4032-b92a-06ce627ab3af",
   "metadata": {},
   "outputs": [],
   "source": [
    "# How many employees are there in each department?\n",
    "department_count = data.groupby('Department')['Employee ID'].count()"
   ]
  },
  {
   "cell_type": "code",
   "execution_count": 6,
   "id": "04ee8e84-1a91-4a39-ae67-1eb011c6bc4c",
   "metadata": {},
   "outputs": [
    {
     "data": {
      "text/plain": [
       "Department\n",
       "Engineering    12\n",
       "Finance        20\n",
       "HR             13\n",
       "Marketing      18\n",
       "Operations     18\n",
       "Sales          19\n",
       "Name: Employee ID, dtype: int64"
      ]
     },
     "execution_count": 6,
     "metadata": {},
     "output_type": "execute_result"
    }
   ],
   "source": [
    "department_count"
   ]
  },
  {
   "cell_type": "code",
   "execution_count": 7,
   "id": "84fc6073-0070-476f-8c0b-407eeb6201d1",
   "metadata": {},
   "outputs": [
    {
     "data": {
      "text/html": [
       "<div>\n",
       "<style scoped>\n",
       "    .dataframe tbody tr th:only-of-type {\n",
       "        vertical-align: middle;\n",
       "    }\n",
       "\n",
       "    .dataframe tbody tr th {\n",
       "        vertical-align: top;\n",
       "    }\n",
       "\n",
       "    .dataframe thead th {\n",
       "        text-align: right;\n",
       "    }\n",
       "</style>\n",
       "<table border=\"1\" class=\"dataframe\">\n",
       "  <thead>\n",
       "    <tr style=\"text-align: right;\">\n",
       "      <th></th>\n",
       "      <th>Department</th>\n",
       "      <th>Employee ID</th>\n",
       "    </tr>\n",
       "  </thead>\n",
       "  <tbody>\n",
       "    <tr>\n",
       "      <th>0</th>\n",
       "      <td>Engineering</td>\n",
       "      <td>12</td>\n",
       "    </tr>\n",
       "    <tr>\n",
       "      <th>1</th>\n",
       "      <td>Finance</td>\n",
       "      <td>20</td>\n",
       "    </tr>\n",
       "    <tr>\n",
       "      <th>2</th>\n",
       "      <td>HR</td>\n",
       "      <td>13</td>\n",
       "    </tr>\n",
       "    <tr>\n",
       "      <th>3</th>\n",
       "      <td>Marketing</td>\n",
       "      <td>18</td>\n",
       "    </tr>\n",
       "    <tr>\n",
       "      <th>4</th>\n",
       "      <td>Operations</td>\n",
       "      <td>18</td>\n",
       "    </tr>\n",
       "    <tr>\n",
       "      <th>5</th>\n",
       "      <td>Sales</td>\n",
       "      <td>19</td>\n",
       "    </tr>\n",
       "  </tbody>\n",
       "</table>\n",
       "</div>"
      ],
      "text/plain": [
       "    Department  Employee ID\n",
       "0  Engineering           12\n",
       "1      Finance           20\n",
       "2           HR           13\n",
       "3    Marketing           18\n",
       "4   Operations           18\n",
       "5        Sales           19"
      ]
     },
     "execution_count": 7,
     "metadata": {},
     "output_type": "execute_result"
    }
   ],
   "source": [
    "department_count.reset_index()"
   ]
  },
  {
   "cell_type": "code",
   "execution_count": 9,
   "id": "4df36428-ff15-4281-8e50-3f5ab67207fe",
   "metadata": {},
   "outputs": [
    {
     "data": {
      "text/html": [
       "<div>\n",
       "<style scoped>\n",
       "    .dataframe tbody tr th:only-of-type {\n",
       "        vertical-align: middle;\n",
       "    }\n",
       "\n",
       "    .dataframe tbody tr th {\n",
       "        vertical-align: top;\n",
       "    }\n",
       "\n",
       "    .dataframe thead th {\n",
       "        text-align: right;\n",
       "    }\n",
       "</style>\n",
       "<table border=\"1\" class=\"dataframe\">\n",
       "  <thead>\n",
       "    <tr style=\"text-align: right;\">\n",
       "      <th></th>\n",
       "      <th>Department</th>\n",
       "      <th>Salary</th>\n",
       "    </tr>\n",
       "  </thead>\n",
       "  <tbody>\n",
       "    <tr>\n",
       "      <th>0</th>\n",
       "      <td>Engineering</td>\n",
       "      <td>111970.833333</td>\n",
       "    </tr>\n",
       "    <tr>\n",
       "      <th>1</th>\n",
       "      <td>Finance</td>\n",
       "      <td>104037.800000</td>\n",
       "    </tr>\n",
       "    <tr>\n",
       "      <th>2</th>\n",
       "      <td>HR</td>\n",
       "      <td>101945.076923</td>\n",
       "    </tr>\n",
       "    <tr>\n",
       "      <th>3</th>\n",
       "      <td>Marketing</td>\n",
       "      <td>99690.500000</td>\n",
       "    </tr>\n",
       "    <tr>\n",
       "      <th>4</th>\n",
       "      <td>Operations</td>\n",
       "      <td>86655.500000</td>\n",
       "    </tr>\n",
       "    <tr>\n",
       "      <th>5</th>\n",
       "      <td>Sales</td>\n",
       "      <td>84412.263158</td>\n",
       "    </tr>\n",
       "  </tbody>\n",
       "</table>\n",
       "</div>"
      ],
      "text/plain": [
       "    Department         Salary\n",
       "0  Engineering  111970.833333\n",
       "1      Finance  104037.800000\n",
       "2           HR  101945.076923\n",
       "3    Marketing   99690.500000\n",
       "4   Operations   86655.500000\n",
       "5        Sales   84412.263158"
      ]
     },
     "execution_count": 9,
     "metadata": {},
     "output_type": "execute_result"
    }
   ],
   "source": [
    "data.groupby('Department')['Salary'].mean().reset_index()"
   ]
  },
  {
   "cell_type": "code",
   "execution_count": 13,
   "id": "1e54e9fc-eff9-45b6-a664-01dc6de5a6fa",
   "metadata": {},
   "outputs": [
    {
     "data": {
      "text/plain": [
       "array(['Female', 'Male'], dtype=object)"
      ]
     },
     "execution_count": 13,
     "metadata": {},
     "output_type": "execute_result"
    }
   ],
   "source": [
    "data[\"Gender\"].unique()"
   ]
  },
  {
   "cell_type": "code",
   "execution_count": 14,
   "id": "27c5b60f-0338-423f-b255-b3871ab82cc3",
   "metadata": {},
   "outputs": [
    {
     "data": {
      "text/plain": [
       "2"
      ]
     },
     "execution_count": 14,
     "metadata": {},
     "output_type": "execute_result"
    }
   ],
   "source": [
    "data[\"Gender\"].nunique()"
   ]
  },
  {
   "cell_type": "code",
   "execution_count": 10,
   "id": "6a6524cc-69cb-4263-b80f-0497c2f5ac11",
   "metadata": {},
   "outputs": [
    {
     "data": {
      "text/html": [
       "<div>\n",
       "<style scoped>\n",
       "    .dataframe tbody tr th:only-of-type {\n",
       "        vertical-align: middle;\n",
       "    }\n",
       "\n",
       "    .dataframe tbody tr th {\n",
       "        vertical-align: top;\n",
       "    }\n",
       "\n",
       "    .dataframe thead th {\n",
       "        text-align: right;\n",
       "    }\n",
       "</style>\n",
       "<table border=\"1\" class=\"dataframe\">\n",
       "  <thead>\n",
       "    <tr style=\"text-align: right;\">\n",
       "      <th></th>\n",
       "      <th>Gender</th>\n",
       "      <th>Employee ID</th>\n",
       "    </tr>\n",
       "  </thead>\n",
       "  <tbody>\n",
       "    <tr>\n",
       "      <th>0</th>\n",
       "      <td>Female</td>\n",
       "      <td>44</td>\n",
       "    </tr>\n",
       "    <tr>\n",
       "      <th>1</th>\n",
       "      <td>Male</td>\n",
       "      <td>56</td>\n",
       "    </tr>\n",
       "  </tbody>\n",
       "</table>\n",
       "</div>"
      ],
      "text/plain": [
       "   Gender  Employee ID\n",
       "0  Female           44\n",
       "1    Male           56"
      ]
     },
     "execution_count": 10,
     "metadata": {},
     "output_type": "execute_result"
    }
   ],
   "source": [
    "# How many employees are there in each gender?\n",
    "gender_count = data.groupby('Gender')['Employee ID'].count()\n",
    "gender_count.reset_index()"
   ]
  },
  {
   "cell_type": "code",
   "execution_count": null,
   "id": "289c66db-89d3-458c-a50c-11cc77bdc2ec",
   "metadata": {},
   "outputs": [],
   "source": []
  },
  {
   "cell_type": "code",
   "execution_count": 15,
   "id": "db162706-e14a-4a47-866a-d291ac9fd4a0",
   "metadata": {},
   "outputs": [
    {
     "data": {
      "text/html": [
       "<div>\n",
       "<style scoped>\n",
       "    .dataframe tbody tr th:only-of-type {\n",
       "        vertical-align: middle;\n",
       "    }\n",
       "\n",
       "    .dataframe tbody tr th {\n",
       "        vertical-align: top;\n",
       "    }\n",
       "\n",
       "    .dataframe thead th {\n",
       "        text-align: right;\n",
       "    }\n",
       "</style>\n",
       "<table border=\"1\" class=\"dataframe\">\n",
       "  <thead>\n",
       "    <tr style=\"text-align: right;\">\n",
       "      <th></th>\n",
       "      <th>Department</th>\n",
       "      <th>Gender</th>\n",
       "      <th>Employee ID</th>\n",
       "    </tr>\n",
       "  </thead>\n",
       "  <tbody>\n",
       "    <tr>\n",
       "      <th>0</th>\n",
       "      <td>Engineering</td>\n",
       "      <td>Female</td>\n",
       "      <td>7</td>\n",
       "    </tr>\n",
       "    <tr>\n",
       "      <th>1</th>\n",
       "      <td>Engineering</td>\n",
       "      <td>Male</td>\n",
       "      <td>5</td>\n",
       "    </tr>\n",
       "    <tr>\n",
       "      <th>2</th>\n",
       "      <td>Finance</td>\n",
       "      <td>Female</td>\n",
       "      <td>7</td>\n",
       "    </tr>\n",
       "    <tr>\n",
       "      <th>3</th>\n",
       "      <td>Finance</td>\n",
       "      <td>Male</td>\n",
       "      <td>13</td>\n",
       "    </tr>\n",
       "    <tr>\n",
       "      <th>4</th>\n",
       "      <td>HR</td>\n",
       "      <td>Female</td>\n",
       "      <td>5</td>\n",
       "    </tr>\n",
       "    <tr>\n",
       "      <th>5</th>\n",
       "      <td>HR</td>\n",
       "      <td>Male</td>\n",
       "      <td>8</td>\n",
       "    </tr>\n",
       "    <tr>\n",
       "      <th>6</th>\n",
       "      <td>Marketing</td>\n",
       "      <td>Female</td>\n",
       "      <td>7</td>\n",
       "    </tr>\n",
       "    <tr>\n",
       "      <th>7</th>\n",
       "      <td>Marketing</td>\n",
       "      <td>Male</td>\n",
       "      <td>11</td>\n",
       "    </tr>\n",
       "    <tr>\n",
       "      <th>8</th>\n",
       "      <td>Operations</td>\n",
       "      <td>Female</td>\n",
       "      <td>12</td>\n",
       "    </tr>\n",
       "    <tr>\n",
       "      <th>9</th>\n",
       "      <td>Operations</td>\n",
       "      <td>Male</td>\n",
       "      <td>6</td>\n",
       "    </tr>\n",
       "    <tr>\n",
       "      <th>10</th>\n",
       "      <td>Sales</td>\n",
       "      <td>Female</td>\n",
       "      <td>6</td>\n",
       "    </tr>\n",
       "    <tr>\n",
       "      <th>11</th>\n",
       "      <td>Sales</td>\n",
       "      <td>Male</td>\n",
       "      <td>13</td>\n",
       "    </tr>\n",
       "  </tbody>\n",
       "</table>\n",
       "</div>"
      ],
      "text/plain": [
       "     Department  Gender  Employee ID\n",
       "0   Engineering  Female            7\n",
       "1   Engineering    Male            5\n",
       "2       Finance  Female            7\n",
       "3       Finance    Male           13\n",
       "4            HR  Female            5\n",
       "5            HR    Male            8\n",
       "6     Marketing  Female            7\n",
       "7     Marketing    Male           11\n",
       "8    Operations  Female           12\n",
       "9    Operations    Male            6\n",
       "10        Sales  Female            6\n",
       "11        Sales    Male           13"
      ]
     },
     "execution_count": 15,
     "metadata": {},
     "output_type": "execute_result"
    }
   ],
   "source": [
    " data.groupby([\"Department\",'Gender'])['Employee ID'].count().reset_index()"
   ]
  },
  {
   "cell_type": "code",
   "execution_count": 16,
   "id": "6a842be1-2111-4e4d-a829-ca1681ab8619",
   "metadata": {},
   "outputs": [
    {
     "data": {
      "text/html": [
       "<div>\n",
       "<style scoped>\n",
       "    .dataframe tbody tr th:only-of-type {\n",
       "        vertical-align: middle;\n",
       "    }\n",
       "\n",
       "    .dataframe tbody tr th {\n",
       "        vertical-align: top;\n",
       "    }\n",
       "\n",
       "    .dataframe thead th {\n",
       "        text-align: right;\n",
       "    }\n",
       "</style>\n",
       "<table border=\"1\" class=\"dataframe\">\n",
       "  <thead>\n",
       "    <tr style=\"text-align: right;\">\n",
       "      <th></th>\n",
       "      <th>Gender</th>\n",
       "      <th>Salary</th>\n",
       "    </tr>\n",
       "  </thead>\n",
       "  <tbody>\n",
       "    <tr>\n",
       "      <th>0</th>\n",
       "      <td>Female</td>\n",
       "      <td>95179.977273</td>\n",
       "    </tr>\n",
       "    <tr>\n",
       "      <th>1</th>\n",
       "      <td>Male</td>\n",
       "      <td>98568.464286</td>\n",
       "    </tr>\n",
       "  </tbody>\n",
       "</table>\n",
       "</div>"
      ],
      "text/plain": [
       "   Gender        Salary\n",
       "0  Female  95179.977273\n",
       "1    Male  98568.464286"
      ]
     },
     "execution_count": 16,
     "metadata": {},
     "output_type": "execute_result"
    }
   ],
   "source": [
    "# What is the average salary for each gender?\n",
    "average_salary_by_gender = data.groupby('Gender')['Salary'].mean()\n",
    "average_salary_by_gender.reset_index()"
   ]
  },
  {
   "cell_type": "code",
   "execution_count": 17,
   "id": "7be52c85-8dbd-4e2a-a12e-8f3074525ec2",
   "metadata": {},
   "outputs": [
    {
     "data": {
      "text/html": [
       "<div>\n",
       "<style scoped>\n",
       "    .dataframe tbody tr th:only-of-type {\n",
       "        vertical-align: middle;\n",
       "    }\n",
       "\n",
       "    .dataframe tbody tr th {\n",
       "        vertical-align: top;\n",
       "    }\n",
       "\n",
       "    .dataframe thead th {\n",
       "        text-align: right;\n",
       "    }\n",
       "</style>\n",
       "<table border=\"1\" class=\"dataframe\">\n",
       "  <thead>\n",
       "    <tr style=\"text-align: right;\">\n",
       "      <th></th>\n",
       "      <th>Gender</th>\n",
       "      <th>Department</th>\n",
       "      <th>Salary</th>\n",
       "    </tr>\n",
       "  </thead>\n",
       "  <tbody>\n",
       "    <tr>\n",
       "      <th>0</th>\n",
       "      <td>Female</td>\n",
       "      <td>Engineering</td>\n",
       "      <td>104965.000000</td>\n",
       "    </tr>\n",
       "    <tr>\n",
       "      <th>1</th>\n",
       "      <td>Female</td>\n",
       "      <td>Finance</td>\n",
       "      <td>100104.428571</td>\n",
       "    </tr>\n",
       "    <tr>\n",
       "      <th>2</th>\n",
       "      <td>Female</td>\n",
       "      <td>HR</td>\n",
       "      <td>101190.600000</td>\n",
       "    </tr>\n",
       "    <tr>\n",
       "      <th>3</th>\n",
       "      <td>Female</td>\n",
       "      <td>Marketing</td>\n",
       "      <td>102852.714286</td>\n",
       "    </tr>\n",
       "    <tr>\n",
       "      <th>4</th>\n",
       "      <td>Female</td>\n",
       "      <td>Operations</td>\n",
       "      <td>91468.666667</td>\n",
       "    </tr>\n",
       "    <tr>\n",
       "      <th>5</th>\n",
       "      <td>Female</td>\n",
       "      <td>Sales</td>\n",
       "      <td>71481.166667</td>\n",
       "    </tr>\n",
       "    <tr>\n",
       "      <th>6</th>\n",
       "      <td>Male</td>\n",
       "      <td>Engineering</td>\n",
       "      <td>121779.000000</td>\n",
       "    </tr>\n",
       "    <tr>\n",
       "      <th>7</th>\n",
       "      <td>Male</td>\n",
       "      <td>Finance</td>\n",
       "      <td>106155.769231</td>\n",
       "    </tr>\n",
       "    <tr>\n",
       "      <th>8</th>\n",
       "      <td>Male</td>\n",
       "      <td>HR</td>\n",
       "      <td>102416.625000</td>\n",
       "    </tr>\n",
       "    <tr>\n",
       "      <th>9</th>\n",
       "      <td>Male</td>\n",
       "      <td>Marketing</td>\n",
       "      <td>97678.181818</td>\n",
       "    </tr>\n",
       "    <tr>\n",
       "      <th>10</th>\n",
       "      <td>Male</td>\n",
       "      <td>Operations</td>\n",
       "      <td>77029.166667</td>\n",
       "    </tr>\n",
       "    <tr>\n",
       "      <th>11</th>\n",
       "      <td>Male</td>\n",
       "      <td>Sales</td>\n",
       "      <td>90380.461538</td>\n",
       "    </tr>\n",
       "  </tbody>\n",
       "</table>\n",
       "</div>"
      ],
      "text/plain": [
       "    Gender   Department         Salary\n",
       "0   Female  Engineering  104965.000000\n",
       "1   Female      Finance  100104.428571\n",
       "2   Female           HR  101190.600000\n",
       "3   Female    Marketing  102852.714286\n",
       "4   Female   Operations   91468.666667\n",
       "5   Female        Sales   71481.166667\n",
       "6     Male  Engineering  121779.000000\n",
       "7     Male      Finance  106155.769231\n",
       "8     Male           HR  102416.625000\n",
       "9     Male    Marketing   97678.181818\n",
       "10    Male   Operations   77029.166667\n",
       "11    Male        Sales   90380.461538"
      ]
     },
     "execution_count": 17,
     "metadata": {},
     "output_type": "execute_result"
    }
   ],
   "source": [
    "data.groupby(['Gender','Department'])['Salary'].mean().reset_index()"
   ]
  },
  {
   "cell_type": "code",
   "execution_count": 19,
   "id": "097b7c4a-7bcf-4cec-b4e7-af2c740bcdff",
   "metadata": {},
   "outputs": [
    {
     "data": {
      "text/plain": [
       "Department\n",
       "Engineering    111970.833333\n",
       "Finance        104037.800000\n",
       "HR             101945.076923\n",
       "Marketing       99690.500000\n",
       "Operations      86655.500000\n",
       "Sales           84412.263158\n",
       "Name: Salary, dtype: float64"
      ]
     },
     "execution_count": 19,
     "metadata": {},
     "output_type": "execute_result"
    }
   ],
   "source": [
    "# What is the average salary for employees in each department?\n",
    "average_salary_by_department = data.groupby('Department')['Salary'].mean()\n",
    "average_salary_by_department"
   ]
  },
  {
   "cell_type": "code",
   "execution_count": 20,
   "id": "e9e8718d-3973-47e1-94dc-268a8b2cd626",
   "metadata": {},
   "outputs": [
    {
     "data": {
      "text/plain": [
       "Department\n",
       "Engineering    1343650\n",
       "Finance        2080756\n",
       "HR             1325286\n",
       "Marketing      1794429\n",
       "Operations     1559799\n",
       "Sales          1603833\n",
       "Name: Salary, dtype: int64"
      ]
     },
     "execution_count": 20,
     "metadata": {},
     "output_type": "execute_result"
    }
   ],
   "source": [
    "data.groupby('Department')['Salary'].sum()"
   ]
  },
  {
   "cell_type": "code",
   "execution_count": 21,
   "id": "590252a7-c497-487c-a006-a1d05465af76",
   "metadata": {},
   "outputs": [
    {
     "data": {
      "text/plain": [
       "Department\n",
       "Engineering    12\n",
       "Finance        20\n",
       "HR             13\n",
       "Marketing      18\n",
       "Operations     18\n",
       "Sales          19\n",
       "Name: Salary, dtype: int64"
      ]
     },
     "execution_count": 21,
     "metadata": {},
     "output_type": "execute_result"
    }
   ],
   "source": [
    "data.groupby('Department')['Salary'].count()"
   ]
  },
  {
   "cell_type": "code",
   "execution_count": 22,
   "id": "50bfb76d-df16-4e30-b1d5-58e6d6e300f7",
   "metadata": {},
   "outputs": [],
   "source": [
    "grouped_mean = data.groupby('Department').agg({'Salary': 'mean', \n",
    "                                             'Experience': 'mean' })"
   ]
  },
  {
   "cell_type": "code",
   "execution_count": 23,
   "id": "ab9924b9-764f-4371-872f-94f3c865e298",
   "metadata": {},
   "outputs": [
    {
     "data": {
      "text/html": [
       "<div>\n",
       "<style scoped>\n",
       "    .dataframe tbody tr th:only-of-type {\n",
       "        vertical-align: middle;\n",
       "    }\n",
       "\n",
       "    .dataframe tbody tr th {\n",
       "        vertical-align: top;\n",
       "    }\n",
       "\n",
       "    .dataframe thead th {\n",
       "        text-align: right;\n",
       "    }\n",
       "</style>\n",
       "<table border=\"1\" class=\"dataframe\">\n",
       "  <thead>\n",
       "    <tr style=\"text-align: right;\">\n",
       "      <th></th>\n",
       "      <th>Salary</th>\n",
       "      <th>Experience</th>\n",
       "    </tr>\n",
       "    <tr>\n",
       "      <th>Department</th>\n",
       "      <th></th>\n",
       "      <th></th>\n",
       "    </tr>\n",
       "  </thead>\n",
       "  <tbody>\n",
       "    <tr>\n",
       "      <th>Engineering</th>\n",
       "      <td>111970.833333</td>\n",
       "      <td>12.166667</td>\n",
       "    </tr>\n",
       "    <tr>\n",
       "      <th>Finance</th>\n",
       "      <td>104037.800000</td>\n",
       "      <td>13.500000</td>\n",
       "    </tr>\n",
       "    <tr>\n",
       "      <th>HR</th>\n",
       "      <td>101945.076923</td>\n",
       "      <td>11.230769</td>\n",
       "    </tr>\n",
       "    <tr>\n",
       "      <th>Marketing</th>\n",
       "      <td>99690.500000</td>\n",
       "      <td>12.111111</td>\n",
       "    </tr>\n",
       "    <tr>\n",
       "      <th>Operations</th>\n",
       "      <td>86655.500000</td>\n",
       "      <td>11.833333</td>\n",
       "    </tr>\n",
       "    <tr>\n",
       "      <th>Sales</th>\n",
       "      <td>84412.263158</td>\n",
       "      <td>12.210526</td>\n",
       "    </tr>\n",
       "  </tbody>\n",
       "</table>\n",
       "</div>"
      ],
      "text/plain": [
       "                    Salary  Experience\n",
       "Department                            \n",
       "Engineering  111970.833333   12.166667\n",
       "Finance      104037.800000   13.500000\n",
       "HR           101945.076923   11.230769\n",
       "Marketing     99690.500000   12.111111\n",
       "Operations    86655.500000   11.833333\n",
       "Sales         84412.263158   12.210526"
      ]
     },
     "execution_count": 23,
     "metadata": {},
     "output_type": "execute_result"
    }
   ],
   "source": [
    "grouped_mean"
   ]
  },
  {
   "cell_type": "code",
   "execution_count": 24,
   "id": "d6fa258d-22b1-4947-8b95-83876bbc1040",
   "metadata": {},
   "outputs": [],
   "source": [
    "grouped_agg = data.groupby('Department').agg({'Salary': ['mean', 'sum'],\n",
    "                                            'Experience': ['mean', 'count'] })"
   ]
  },
  {
   "cell_type": "code",
   "execution_count": 25,
   "id": "33495e70-6152-4be5-9215-912050b45414",
   "metadata": {},
   "outputs": [
    {
     "data": {
      "text/html": [
       "<div>\n",
       "<style scoped>\n",
       "    .dataframe tbody tr th:only-of-type {\n",
       "        vertical-align: middle;\n",
       "    }\n",
       "\n",
       "    .dataframe tbody tr th {\n",
       "        vertical-align: top;\n",
       "    }\n",
       "\n",
       "    .dataframe thead tr th {\n",
       "        text-align: left;\n",
       "    }\n",
       "\n",
       "    .dataframe thead tr:last-of-type th {\n",
       "        text-align: right;\n",
       "    }\n",
       "</style>\n",
       "<table border=\"1\" class=\"dataframe\">\n",
       "  <thead>\n",
       "    <tr>\n",
       "      <th></th>\n",
       "      <th colspan=\"2\" halign=\"left\">Salary</th>\n",
       "      <th colspan=\"2\" halign=\"left\">Experience</th>\n",
       "    </tr>\n",
       "    <tr>\n",
       "      <th></th>\n",
       "      <th>mean</th>\n",
       "      <th>sum</th>\n",
       "      <th>mean</th>\n",
       "      <th>count</th>\n",
       "    </tr>\n",
       "    <tr>\n",
       "      <th>Department</th>\n",
       "      <th></th>\n",
       "      <th></th>\n",
       "      <th></th>\n",
       "      <th></th>\n",
       "    </tr>\n",
       "  </thead>\n",
       "  <tbody>\n",
       "    <tr>\n",
       "      <th>Engineering</th>\n",
       "      <td>111970.833333</td>\n",
       "      <td>1343650</td>\n",
       "      <td>12.166667</td>\n",
       "      <td>12</td>\n",
       "    </tr>\n",
       "    <tr>\n",
       "      <th>Finance</th>\n",
       "      <td>104037.800000</td>\n",
       "      <td>2080756</td>\n",
       "      <td>13.500000</td>\n",
       "      <td>20</td>\n",
       "    </tr>\n",
       "    <tr>\n",
       "      <th>HR</th>\n",
       "      <td>101945.076923</td>\n",
       "      <td>1325286</td>\n",
       "      <td>11.230769</td>\n",
       "      <td>13</td>\n",
       "    </tr>\n",
       "    <tr>\n",
       "      <th>Marketing</th>\n",
       "      <td>99690.500000</td>\n",
       "      <td>1794429</td>\n",
       "      <td>12.111111</td>\n",
       "      <td>18</td>\n",
       "    </tr>\n",
       "    <tr>\n",
       "      <th>Operations</th>\n",
       "      <td>86655.500000</td>\n",
       "      <td>1559799</td>\n",
       "      <td>11.833333</td>\n",
       "      <td>18</td>\n",
       "    </tr>\n",
       "    <tr>\n",
       "      <th>Sales</th>\n",
       "      <td>84412.263158</td>\n",
       "      <td>1603833</td>\n",
       "      <td>12.210526</td>\n",
       "      <td>19</td>\n",
       "    </tr>\n",
       "  </tbody>\n",
       "</table>\n",
       "</div>"
      ],
      "text/plain": [
       "                    Salary          Experience      \n",
       "                      mean      sum       mean count\n",
       "Department                                          \n",
       "Engineering  111970.833333  1343650  12.166667    12\n",
       "Finance      104037.800000  2080756  13.500000    20\n",
       "HR           101945.076923  1325286  11.230769    13\n",
       "Marketing     99690.500000  1794429  12.111111    18\n",
       "Operations    86655.500000  1559799  11.833333    18\n",
       "Sales         84412.263158  1603833  12.210526    19"
      ]
     },
     "execution_count": 25,
     "metadata": {},
     "output_type": "execute_result"
    }
   ],
   "source": [
    "grouped_agg"
   ]
  },
  {
   "cell_type": "code",
   "execution_count": null,
   "id": "73f8c30b-c7b5-4f3d-b2c5-fbdcede29a86",
   "metadata": {},
   "outputs": [],
   "source": [
    "data.head()"
   ]
  },
  {
   "cell_type": "code",
   "execution_count": 26,
   "id": "9062fdaa-e0de-4241-bf70-ddcf43ec2fde",
   "metadata": {},
   "outputs": [
    {
     "data": {
      "text/plain": [
       "array(['Finance', 'Engineering', 'HR', 'Sales', 'Operations', 'Marketing'],\n",
       "      dtype=object)"
      ]
     },
     "execution_count": 26,
     "metadata": {},
     "output_type": "execute_result"
    }
   ],
   "source": [
    "data[\"Department\"].unique()  #Returns unique values in the column"
   ]
  },
  {
   "cell_type": "code",
   "execution_count": 27,
   "id": "d3816a7d-1a4e-49e0-98c0-37c8a9a5ae91",
   "metadata": {},
   "outputs": [
    {
     "data": {
      "text/plain": [
       "6"
      ]
     },
     "execution_count": 27,
     "metadata": {},
     "output_type": "execute_result"
    }
   ],
   "source": [
    "data[\"Department\"].nunique() #Returns the number of unique values in a column."
   ]
  },
  {
   "cell_type": "code",
   "execution_count": 29,
   "id": "c3c10978-e20b-484b-8c64-14b15557e769",
   "metadata": {},
   "outputs": [
    {
     "data": {
      "text/html": [
       "<div>\n",
       "<style scoped>\n",
       "    .dataframe tbody tr th:only-of-type {\n",
       "        vertical-align: middle;\n",
       "    }\n",
       "\n",
       "    .dataframe tbody tr th {\n",
       "        vertical-align: top;\n",
       "    }\n",
       "\n",
       "    .dataframe thead th {\n",
       "        text-align: right;\n",
       "    }\n",
       "</style>\n",
       "<table border=\"1\" class=\"dataframe\">\n",
       "  <thead>\n",
       "    <tr style=\"text-align: right;\">\n",
       "      <th></th>\n",
       "      <th>index</th>\n",
       "      <th>Department</th>\n",
       "    </tr>\n",
       "  </thead>\n",
       "  <tbody>\n",
       "    <tr>\n",
       "      <th>0</th>\n",
       "      <td>Finance</td>\n",
       "      <td>20</td>\n",
       "    </tr>\n",
       "    <tr>\n",
       "      <th>1</th>\n",
       "      <td>Sales</td>\n",
       "      <td>19</td>\n",
       "    </tr>\n",
       "    <tr>\n",
       "      <th>2</th>\n",
       "      <td>Operations</td>\n",
       "      <td>18</td>\n",
       "    </tr>\n",
       "    <tr>\n",
       "      <th>3</th>\n",
       "      <td>Marketing</td>\n",
       "      <td>18</td>\n",
       "    </tr>\n",
       "    <tr>\n",
       "      <th>4</th>\n",
       "      <td>HR</td>\n",
       "      <td>13</td>\n",
       "    </tr>\n",
       "    <tr>\n",
       "      <th>5</th>\n",
       "      <td>Engineering</td>\n",
       "      <td>12</td>\n",
       "    </tr>\n",
       "  </tbody>\n",
       "</table>\n",
       "</div>"
      ],
      "text/plain": [
       "         index  Department\n",
       "0      Finance          20\n",
       "1        Sales          19\n",
       "2   Operations          18\n",
       "3    Marketing          18\n",
       "4           HR          13\n",
       "5  Engineering          12"
      ]
     },
     "execution_count": 29,
     "metadata": {},
     "output_type": "execute_result"
    }
   ],
   "source": [
    "data[\"Department\"].value_counts().reset_index() #Returns the count of unique values in a column"
   ]
  },
  {
   "cell_type": "code",
   "execution_count": null,
   "id": "73603633-b087-46ac-8609-be1cd5427792",
   "metadata": {},
   "outputs": [],
   "source": [
    "# .str"
   ]
  },
  {
   "cell_type": "code",
   "execution_count": 30,
   "id": "151db259-ce4c-46be-80ce-6465973edb19",
   "metadata": {},
   "outputs": [
    {
     "data": {
      "text/html": [
       "<div>\n",
       "<style scoped>\n",
       "    .dataframe tbody tr th:only-of-type {\n",
       "        vertical-align: middle;\n",
       "    }\n",
       "\n",
       "    .dataframe tbody tr th {\n",
       "        vertical-align: top;\n",
       "    }\n",
       "\n",
       "    .dataframe thead th {\n",
       "        text-align: right;\n",
       "    }\n",
       "</style>\n",
       "<table border=\"1\" class=\"dataframe\">\n",
       "  <thead>\n",
       "    <tr style=\"text-align: right;\">\n",
       "      <th></th>\n",
       "      <th>Employee ID</th>\n",
       "      <th>Employee Name</th>\n",
       "      <th>Manager Name</th>\n",
       "      <th>Department</th>\n",
       "      <th>Qualification</th>\n",
       "      <th>Gender</th>\n",
       "      <th>Experience</th>\n",
       "      <th>Salary</th>\n",
       "    </tr>\n",
       "  </thead>\n",
       "  <tbody>\n",
       "    <tr>\n",
       "      <th>0</th>\n",
       "      <td>E001</td>\n",
       "      <td>Pooja Thorat</td>\n",
       "      <td>Vishal Bhosale</td>\n",
       "      <td>Finance</td>\n",
       "      <td>Bachelor</td>\n",
       "      <td>Female</td>\n",
       "      <td>18</td>\n",
       "      <td>103464</td>\n",
       "    </tr>\n",
       "    <tr>\n",
       "      <th>1</th>\n",
       "      <td>E002</td>\n",
       "      <td>Shruti Sawant</td>\n",
       "      <td>Neelam Sawant</td>\n",
       "      <td>Engineering</td>\n",
       "      <td>PhD</td>\n",
       "      <td>Male</td>\n",
       "      <td>9</td>\n",
       "      <td>126942</td>\n",
       "    </tr>\n",
       "    <tr>\n",
       "      <th>2</th>\n",
       "      <td>E003</td>\n",
       "      <td>Rupal Kulkarni</td>\n",
       "      <td>Aparna Jadhav</td>\n",
       "      <td>HR</td>\n",
       "      <td>PhD</td>\n",
       "      <td>Male</td>\n",
       "      <td>14</td>\n",
       "      <td>129882</td>\n",
       "    </tr>\n",
       "    <tr>\n",
       "      <th>3</th>\n",
       "      <td>E004</td>\n",
       "      <td>Shweta Pawar</td>\n",
       "      <td>Siddhi Bhosale</td>\n",
       "      <td>Sales</td>\n",
       "      <td>PhD</td>\n",
       "      <td>Male</td>\n",
       "      <td>2</td>\n",
       "      <td>71092</td>\n",
       "    </tr>\n",
       "    <tr>\n",
       "      <th>4</th>\n",
       "      <td>E005</td>\n",
       "      <td>Snehal Jadhav</td>\n",
       "      <td>Siddhi Rathod</td>\n",
       "      <td>Finance</td>\n",
       "      <td>Bachelor</td>\n",
       "      <td>Female</td>\n",
       "      <td>8</td>\n",
       "      <td>104760</td>\n",
       "    </tr>\n",
       "  </tbody>\n",
       "</table>\n",
       "</div>"
      ],
      "text/plain": [
       "  Employee ID   Employee Name    Manager Name   Department Qualification  \\\n",
       "0        E001    Pooja Thorat  Vishal Bhosale      Finance      Bachelor   \n",
       "1        E002   Shruti Sawant   Neelam Sawant  Engineering           PhD   \n",
       "2        E003  Rupal Kulkarni   Aparna Jadhav           HR           PhD   \n",
       "3        E004    Shweta Pawar  Siddhi Bhosale        Sales           PhD   \n",
       "4        E005   Snehal Jadhav   Siddhi Rathod      Finance      Bachelor   \n",
       "\n",
       "   Gender  Experience  Salary  \n",
       "0  Female          18  103464  \n",
       "1    Male           9  126942  \n",
       "2    Male          14  129882  \n",
       "3    Male           2   71092  \n",
       "4  Female           8  104760  "
      ]
     },
     "execution_count": 30,
     "metadata": {},
     "output_type": "execute_result"
    }
   ],
   "source": [
    "data.head()"
   ]
  },
  {
   "cell_type": "code",
   "execution_count": 32,
   "id": "db0e2fed-9506-4cc2-bb9d-8a349f414cef",
   "metadata": {},
   "outputs": [
    {
     "data": {
      "text/plain": [
       "0         FINANCE\n",
       "1     ENGINEERING\n",
       "2              HR\n",
       "3           SALES\n",
       "4         FINANCE\n",
       "         ...     \n",
       "95    ENGINEERING\n",
       "96          SALES\n",
       "97        FINANCE\n",
       "98          SALES\n",
       "99    ENGINEERING\n",
       "Name: Department, Length: 100, dtype: object"
      ]
     },
     "execution_count": 32,
     "metadata": {},
     "output_type": "execute_result"
    }
   ],
   "source": [
    "data[\"Department\"].str.upper()"
   ]
  },
  {
   "cell_type": "code",
   "execution_count": null,
   "id": "83770654-9da6-41af-80bd-e7475bc54970",
   "metadata": {},
   "outputs": [],
   "source": [
    "data[\"Department\"].str.replace(\"HR\",\"Human Resource\")"
   ]
  },
  {
   "cell_type": "code",
   "execution_count": null,
   "id": "c463e0fd-8700-4c03-9caa-f7e0228f2d03",
   "metadata": {},
   "outputs": [],
   "source": []
  }
 ],
 "metadata": {
  "kernelspec": {
   "display_name": "Python 3 (ipykernel)",
   "language": "python",
   "name": "python3"
  },
  "language_info": {
   "codemirror_mode": {
    "name": "ipython",
    "version": 3
   },
   "file_extension": ".py",
   "mimetype": "text/x-python",
   "name": "python",
   "nbconvert_exporter": "python",
   "pygments_lexer": "ipython3",
   "version": "3.9.7"
  }
 },
 "nbformat": 4,
 "nbformat_minor": 5
}
