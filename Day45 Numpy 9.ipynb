{
 "cells": [
  {
   "cell_type": "markdown",
   "id": "dcf3e1e6",
   "metadata": {},
   "source": [
    "## Create matrix with initial values"
   ]
  },
  {
   "cell_type": "code",
   "execution_count": null,
   "id": "11e969cc",
   "metadata": {},
   "outputs": [],
   "source": [
    "# # Methods\n",
    "# np.array()\n",
    "# np.arange()\n",
    "# np.linspace()\n",
    "\n",
    "# # With initial values\n",
    "# np.eye():Creates an identity matrix\n",
    "# np.zeros:Creates an array filled with zeros\n",
    "# np.ones():Creates an array filled with ones\n",
    "# np.full():Creates an array filled with a specified value\n",
    "# np.empty() : Create with random values"
   ]
  },
  {
   "cell_type": "code",
   "execution_count": null,
   "id": "90eff9d3",
   "metadata": {},
   "outputs": [],
   "source": []
  },
  {
   "cell_type": "code",
   "execution_count": 57,
   "id": "8b41f082",
   "metadata": {},
   "outputs": [],
   "source": [
    "import numpy as np"
   ]
  },
  {
   "cell_type": "code",
   "execution_count": 58,
   "id": "8efce591",
   "metadata": {},
   "outputs": [
    {
     "data": {
      "text/plain": [
       "array([[1., 0., 0., 0., 0.],\n",
       "       [0., 1., 0., 0., 0.],\n",
       "       [0., 0., 1., 0., 0.],\n",
       "       [0., 0., 0., 1., 0.],\n",
       "       [0., 0., 0., 0., 1.]])"
      ]
     },
     "execution_count": 58,
     "metadata": {},
     "output_type": "execute_result"
    }
   ],
   "source": [
    "np.eye(5)"
   ]
  },
  {
   "cell_type": "code",
   "execution_count": 59,
   "id": "062b20ee",
   "metadata": {},
   "outputs": [
    {
     "data": {
      "text/plain": [
       "array([[0., 0., 0.],\n",
       "       [0., 0., 0.],\n",
       "       [0., 0., 0.],\n",
       "       [0., 0., 0.],\n",
       "       [0., 0., 0.]])"
      ]
     },
     "execution_count": 59,
     "metadata": {},
     "output_type": "execute_result"
    }
   ],
   "source": [
    "np.zeros((5,3))"
   ]
  },
  {
   "cell_type": "code",
   "execution_count": 60,
   "id": "65b107a3",
   "metadata": {},
   "outputs": [
    {
     "data": {
      "text/plain": [
       "array([[1., 1., 1.],\n",
       "       [1., 1., 1.],\n",
       "       [1., 1., 1.],\n",
       "       [1., 1., 1.],\n",
       "       [1., 1., 1.]])"
      ]
     },
     "execution_count": 60,
     "metadata": {},
     "output_type": "execute_result"
    }
   ],
   "source": [
    "np.ones((5,3))"
   ]
  },
  {
   "cell_type": "code",
   "execution_count": 61,
   "id": "85090bad-3d2c-4cfd-91e5-28b0a307815a",
   "metadata": {},
   "outputs": [
    {
     "data": {
      "text/plain": [
       "array([[[1., 1., 1.],\n",
       "        [1., 1., 1.],\n",
       "        [1., 1., 1.],\n",
       "        [1., 1., 1.],\n",
       "        [1., 1., 1.]],\n",
       "\n",
       "       [[1., 1., 1.],\n",
       "        [1., 1., 1.],\n",
       "        [1., 1., 1.],\n",
       "        [1., 1., 1.],\n",
       "        [1., 1., 1.]]])"
      ]
     },
     "execution_count": 61,
     "metadata": {},
     "output_type": "execute_result"
    }
   ],
   "source": [
    "np.ones((2,5,3))"
   ]
  },
  {
   "cell_type": "code",
   "execution_count": 62,
   "id": "18baf5eb",
   "metadata": {},
   "outputs": [
    {
     "data": {
      "text/plain": [
       "array([[9, 9, 9, 9, 9, 9],\n",
       "       [9, 9, 9, 9, 9, 9],\n",
       "       [9, 9, 9, 9, 9, 9],\n",
       "       [9, 9, 9, 9, 9, 9]])"
      ]
     },
     "execution_count": 62,
     "metadata": {},
     "output_type": "execute_result"
    }
   ],
   "source": [
    "np.full((4, 6), 9)  "
   ]
  },
  {
   "cell_type": "code",
   "execution_count": 63,
   "id": "23f145be",
   "metadata": {},
   "outputs": [
    {
     "data": {
      "text/plain": [
       "array([[9.65439190e-312, 2.86558075e-322, 0.00000000e+000],\n",
       "       [0.00000000e+000, 4.00766127e+175, 1.04082753e-047],\n",
       "       [4.51137645e-090, 8.23585267e-067, 1.52373855e-052],\n",
       "       [1.79747509e-052, 6.48224659e+170, 5.82471487e+257]])"
      ]
     },
     "execution_count": 63,
     "metadata": {},
     "output_type": "execute_result"
    }
   ],
   "source": [
    "np.empty((4, 3))"
   ]
  },
  {
   "cell_type": "code",
   "execution_count": null,
   "id": "d388ed2b",
   "metadata": {},
   "outputs": [],
   "source": []
  },
  {
   "cell_type": "code",
   "execution_count": 64,
   "id": "8b5a7b1e",
   "metadata": {},
   "outputs": [],
   "source": [
    "b=np.arange(2,41,2)"
   ]
  },
  {
   "cell_type": "code",
   "execution_count": 65,
   "id": "7c0fb36e",
   "metadata": {},
   "outputs": [
    {
     "data": {
      "text/plain": [
       "array([ 2,  4,  6,  8, 10, 12, 14, 16, 18, 20, 22, 24, 26, 28, 30, 32, 34,\n",
       "       36, 38, 40])"
      ]
     },
     "execution_count": 65,
     "metadata": {},
     "output_type": "execute_result"
    }
   ],
   "source": [
    "b"
   ]
  },
  {
   "cell_type": "code",
   "execution_count": 66,
   "id": "05d56d7d",
   "metadata": {},
   "outputs": [
    {
     "data": {
      "text/plain": [
       "20"
      ]
     },
     "execution_count": 66,
     "metadata": {},
     "output_type": "execute_result"
    }
   ],
   "source": [
    "b.size"
   ]
  },
  {
   "cell_type": "code",
   "execution_count": 67,
   "id": "7c56edb1",
   "metadata": {},
   "outputs": [],
   "source": [
    "b=b.reshape((5,4),order=\"F\")"
   ]
  },
  {
   "cell_type": "code",
   "execution_count": 68,
   "id": "89ca243b",
   "metadata": {},
   "outputs": [
    {
     "data": {
      "text/plain": [
       "array([[ 2, 12, 22, 32],\n",
       "       [ 4, 14, 24, 34],\n",
       "       [ 6, 16, 26, 36],\n",
       "       [ 8, 18, 28, 38],\n",
       "       [10, 20, 30, 40]])"
      ]
     },
     "execution_count": 68,
     "metadata": {},
     "output_type": "execute_result"
    }
   ],
   "source": [
    "b"
   ]
  },
  {
   "cell_type": "code",
   "execution_count": 69,
   "id": "f909d04e",
   "metadata": {},
   "outputs": [],
   "source": [
    "# Convert multi-dimensional arrays into one-dimensional arrays\n",
    "# M1) ravel :returns a view of the original array. Changes to the new array may affect the original array and vice versa.\n",
    "# M2) flatten :returns a copy of the original array. Changes to the new array do not affect the original array.\n",
    "# M3) reshape"
   ]
  },
  {
   "cell_type": "code",
   "execution_count": 70,
   "id": "0135d108",
   "metadata": {},
   "outputs": [],
   "source": [
    "flatten_array=b.flatten()"
   ]
  },
  {
   "cell_type": "code",
   "execution_count": 71,
   "id": "c2d71e05",
   "metadata": {},
   "outputs": [],
   "source": [
    "ravel_array=b.ravel()"
   ]
  },
  {
   "cell_type": "code",
   "execution_count": 72,
   "id": "42d39023",
   "metadata": {},
   "outputs": [
    {
     "data": {
      "text/plain": [
       "array([ 2, 12, 22, 32,  4, 14, 24, 34,  6, 16, 26, 36,  8, 18, 28, 38, 10,\n",
       "       20, 30, 40])"
      ]
     },
     "execution_count": 72,
     "metadata": {},
     "output_type": "execute_result"
    }
   ],
   "source": [
    "flatten_array"
   ]
  },
  {
   "cell_type": "code",
   "execution_count": 73,
   "id": "846b13cb",
   "metadata": {},
   "outputs": [
    {
     "data": {
      "text/plain": [
       "array([ 2, 12, 22, 32,  4, 14, 24, 34,  6, 16, 26, 36,  8, 18, 28, 38, 10,\n",
       "       20, 30, 40])"
      ]
     },
     "execution_count": 73,
     "metadata": {},
     "output_type": "execute_result"
    }
   ],
   "source": [
    "ravel_array"
   ]
  },
  {
   "cell_type": "code",
   "execution_count": 74,
   "id": "d2566868",
   "metadata": {},
   "outputs": [],
   "source": [
    "flatten_array[2]=222"
   ]
  },
  {
   "cell_type": "code",
   "execution_count": 75,
   "id": "6fe01615",
   "metadata": {},
   "outputs": [
    {
     "data": {
      "text/plain": [
       "array([  2,  12, 222,  32,   4,  14,  24,  34,   6,  16,  26,  36,   8,\n",
       "        18,  28,  38,  10,  20,  30,  40])"
      ]
     },
     "execution_count": 75,
     "metadata": {},
     "output_type": "execute_result"
    }
   ],
   "source": [
    "flatten_array"
   ]
  },
  {
   "cell_type": "code",
   "execution_count": 76,
   "id": "ad00d4a9",
   "metadata": {},
   "outputs": [
    {
     "data": {
      "text/plain": [
       "array([[ 2, 12, 22, 32],\n",
       "       [ 4, 14, 24, 34],\n",
       "       [ 6, 16, 26, 36],\n",
       "       [ 8, 18, 28, 38],\n",
       "       [10, 20, 30, 40]])"
      ]
     },
     "execution_count": 76,
     "metadata": {},
     "output_type": "execute_result"
    }
   ],
   "source": [
    "b"
   ]
  },
  {
   "cell_type": "code",
   "execution_count": 77,
   "id": "2a8adf70-5aac-43d5-a2ae-6e24ec9c8bd0",
   "metadata": {},
   "outputs": [
    {
     "data": {
      "text/plain": [
       "14"
      ]
     },
     "execution_count": 77,
     "metadata": {},
     "output_type": "execute_result"
    }
   ],
   "source": [
    "b[1,1]"
   ]
  },
  {
   "cell_type": "code",
   "execution_count": 78,
   "id": "2fb6e891",
   "metadata": {},
   "outputs": [],
   "source": [
    "# Change 14 to 144\n",
    "b[1,1]=144"
   ]
  },
  {
   "cell_type": "code",
   "execution_count": 79,
   "id": "318b101c",
   "metadata": {},
   "outputs": [
    {
     "data": {
      "text/plain": [
       "array([[  2,  12,  22,  32],\n",
       "       [  4, 144,  24,  34],\n",
       "       [  6,  16,  26,  36],\n",
       "       [  8,  18,  28,  38],\n",
       "       [ 10,  20,  30,  40]])"
      ]
     },
     "execution_count": 79,
     "metadata": {},
     "output_type": "execute_result"
    }
   ],
   "source": [
    "b"
   ]
  },
  {
   "cell_type": "code",
   "execution_count": 80,
   "id": "54f75d50-29de-4adf-97f7-ba1d892818e9",
   "metadata": {},
   "outputs": [],
   "source": [
    "# [[ 2, 12, 22, 32],\n",
    "#  [ 4, 14, 24, 34],\n",
    "#  [ 6, 16, 26, 36],\n",
    "#  [ 8, 18, 28, 38],\n",
    "#  [10, 20, 30, 40]]"
   ]
  },
  {
   "cell_type": "code",
   "execution_count": 81,
   "id": "61adb388",
   "metadata": {},
   "outputs": [
    {
     "data": {
      "text/plain": [
       "array([  2,  12, 222,  32,   4,  14,  24,  34,   6,  16,  26,  36,   8,\n",
       "        18,  28,  38,  10,  20,  30,  40])"
      ]
     },
     "execution_count": 81,
     "metadata": {},
     "output_type": "execute_result"
    }
   ],
   "source": [
    "flatten_array "
   ]
  },
  {
   "cell_type": "code",
   "execution_count": 82,
   "id": "ac1b725a",
   "metadata": {},
   "outputs": [
    {
     "data": {
      "text/plain": [
       "array([ 2, 12, 22, 32,  4, 14, 24, 34,  6, 16, 26, 36,  8, 18, 28, 38, 10,\n",
       "       20, 30, 40])"
      ]
     },
     "execution_count": 82,
     "metadata": {},
     "output_type": "execute_result"
    }
   ],
   "source": [
    "ravel_array"
   ]
  },
  {
   "cell_type": "code",
   "execution_count": 83,
   "id": "710f9d66",
   "metadata": {},
   "outputs": [],
   "source": [
    "# Change in ravel and observe original array"
   ]
  },
  {
   "cell_type": "code",
   "execution_count": 84,
   "id": "f816c00b",
   "metadata": {},
   "outputs": [],
   "source": [
    "ravel_array[0]=200"
   ]
  },
  {
   "cell_type": "code",
   "execution_count": 85,
   "id": "8143ed25-f391-46d6-bb28-5eafabda2173",
   "metadata": {},
   "outputs": [
    {
     "data": {
      "text/plain": [
       "array([200,  12,  22,  32,   4,  14,  24,  34,   6,  16,  26,  36,   8,\n",
       "        18,  28,  38,  10,  20,  30,  40])"
      ]
     },
     "execution_count": 85,
     "metadata": {},
     "output_type": "execute_result"
    }
   ],
   "source": [
    "ravel_array"
   ]
  },
  {
   "cell_type": "code",
   "execution_count": 86,
   "id": "a7ba5b6f",
   "metadata": {},
   "outputs": [
    {
     "data": {
      "text/plain": [
       "array([[  2,  12,  22,  32],\n",
       "       [  4, 144,  24,  34],\n",
       "       [  6,  16,  26,  36],\n",
       "       [  8,  18,  28,  38],\n",
       "       [ 10,  20,  30,  40]])"
      ]
     },
     "execution_count": 86,
     "metadata": {},
     "output_type": "execute_result"
    }
   ],
   "source": [
    "b"
   ]
  },
  {
   "cell_type": "markdown",
   "id": "eef7f6d6",
   "metadata": {
    "collapsed": true,
    "jupyter": {
     "outputs_hidden": true
    }
   },
   "source": [
    "### Mathematical functions"
   ]
  },
  {
   "cell_type": "code",
   "execution_count": 87,
   "id": "48680fe0-df82-48bc-92c3-d47b6cd78cf8",
   "metadata": {},
   "outputs": [],
   "source": [
    "import numpy as np"
   ]
  },
  {
   "cell_type": "code",
   "execution_count": 88,
   "id": "b9b58082",
   "metadata": {},
   "outputs": [],
   "source": [
    "b=np.arange(2,41,2).reshape((5,4),order=\"F\")"
   ]
  },
  {
   "cell_type": "code",
   "execution_count": 89,
   "id": "d1cc963a",
   "metadata": {},
   "outputs": [
    {
     "name": "stdout",
     "output_type": "stream",
     "text": [
      "[[ 2 12 22 32]\n",
      " [ 4 14 24 34]\n",
      " [ 6 16 26 36]\n",
      " [ 8 18 28 38]\n",
      " [10 20 30 40]]\n"
     ]
    }
   ],
   "source": [
    "print(b)"
   ]
  },
  {
   "cell_type": "code",
   "execution_count": 90,
   "id": "1af0a522",
   "metadata": {},
   "outputs": [
    {
     "data": {
      "text/plain": [
       "420"
      ]
     },
     "execution_count": 90,
     "metadata": {},
     "output_type": "execute_result"
    }
   ],
   "source": [
    "b.sum() #sum over all elements in matrix"
   ]
  },
  {
   "cell_type": "code",
   "execution_count": 91,
   "id": "ad1cf674",
   "metadata": {},
   "outputs": [
    {
     "data": {
      "text/plain": [
       "array([ 30,  80, 130, 180])"
      ]
     },
     "execution_count": 91,
     "metadata": {},
     "output_type": "execute_result"
    }
   ],
   "source": [
    "b.sum(axis = 0) #sum of each column"
   ]
  },
  {
   "cell_type": "code",
   "execution_count": 92,
   "id": "771c4cad",
   "metadata": {},
   "outputs": [
    {
     "data": {
      "text/plain": [
       "80"
      ]
     },
     "execution_count": 92,
     "metadata": {},
     "output_type": "execute_result"
    }
   ],
   "source": [
    "12+14+16+18+20"
   ]
  },
  {
   "cell_type": "code",
   "execution_count": 93,
   "id": "8277498d",
   "metadata": {},
   "outputs": [
    {
     "data": {
      "text/plain": [
       "array([ 68,  76,  84,  92, 100])"
      ]
     },
     "execution_count": 93,
     "metadata": {},
     "output_type": "execute_result"
    }
   ],
   "source": [
    "b.sum(axis = 1) #sum of each row"
   ]
  },
  {
   "cell_type": "code",
   "execution_count": 94,
   "id": "1d9f6b01",
   "metadata": {},
   "outputs": [
    {
     "data": {
      "text/plain": [
       "68"
      ]
     },
     "execution_count": 94,
     "metadata": {},
     "output_type": "execute_result"
    }
   ],
   "source": [
    " 2 +12 +22+ 32"
   ]
  },
  {
   "cell_type": "code",
   "execution_count": 95,
   "id": "208ad733-8baa-4777-8090-df2d32b595a0",
   "metadata": {},
   "outputs": [
    {
     "data": {
      "text/plain": [
       "array([[ 2, 12, 22, 32],\n",
       "       [ 4, 14, 24, 34],\n",
       "       [ 6, 16, 26, 36],\n",
       "       [ 8, 18, 28, 38],\n",
       "       [10, 20, 30, 40]])"
      ]
     },
     "execution_count": 95,
     "metadata": {},
     "output_type": "execute_result"
    }
   ],
   "source": [
    "b"
   ]
  },
  {
   "cell_type": "code",
   "execution_count": 96,
   "id": "253ca7d0-3011-4696-b5cd-6dcd0d50e00d",
   "metadata": {},
   "outputs": [
    {
     "data": {
      "text/plain": [
       "420"
      ]
     },
     "execution_count": 96,
     "metadata": {},
     "output_type": "execute_result"
    }
   ],
   "source": [
    "b.sum()"
   ]
  },
  {
   "cell_type": "code",
   "execution_count": 97,
   "id": "e59acd81",
   "metadata": {},
   "outputs": [
    {
     "data": {
      "text/plain": [
       "array([  2,  14,  36,  68,  72,  86, 110, 144, 150, 166, 192, 228, 236,\n",
       "       254, 282, 320, 330, 350, 380, 420])"
      ]
     },
     "execution_count": 97,
     "metadata": {},
     "output_type": "execute_result"
    }
   ],
   "source": [
    "b.cumsum() #cumulative sum of all elements"
   ]
  },
  {
   "cell_type": "code",
   "execution_count": 98,
   "id": "6a4304fb",
   "metadata": {},
   "outputs": [
    {
     "data": {
      "text/plain": [
       "array([[  2,  12,  22,  32],\n",
       "       [  6,  26,  46,  66],\n",
       "       [ 12,  42,  72, 102],\n",
       "       [ 20,  60, 100, 140],\n",
       "       [ 30,  80, 130, 180]])"
      ]
     },
     "execution_count": 98,
     "metadata": {},
     "output_type": "execute_result"
    }
   ],
   "source": [
    "b.cumsum(axis = 0) #cumulative sum for each column"
   ]
  },
  {
   "cell_type": "code",
   "execution_count": 99,
   "id": "f898823c",
   "metadata": {},
   "outputs": [
    {
     "data": {
      "text/plain": [
       "array([[  2,  14,  36,  68],\n",
       "       [  4,  18,  42,  76],\n",
       "       [  6,  22,  48,  84],\n",
       "       [  8,  26,  54,  92],\n",
       "       [ 10,  30,  60, 100]])"
      ]
     },
     "execution_count": 99,
     "metadata": {},
     "output_type": "execute_result"
    }
   ],
   "source": [
    "b.cumsum(axis = 1) #cumulative sum for each row"
   ]
  },
  {
   "cell_type": "code",
   "execution_count": 100,
   "id": "9bf90fe9",
   "metadata": {},
   "outputs": [
    {
     "data": {
      "text/plain": [
       "array([[ 2, 12, 22, 32],\n",
       "       [ 4, 14, 24, 34],\n",
       "       [ 6, 16, 26, 36],\n",
       "       [ 8, 18, 28, 38],\n",
       "       [10, 20, 30, 40]])"
      ]
     },
     "execution_count": 100,
     "metadata": {},
     "output_type": "execute_result"
    }
   ],
   "source": [
    "b"
   ]
  },
  {
   "cell_type": "code",
   "execution_count": 15,
   "id": "e9deb016",
   "metadata": {},
   "outputs": [
    {
     "data": {
      "text/plain": [
       "40"
      ]
     },
     "execution_count": 15,
     "metadata": {},
     "output_type": "execute_result"
    }
   ],
   "source": [
    "b.max() #maximum "
   ]
  },
  {
   "cell_type": "code",
   "execution_count": 16,
   "id": "965b8fbe",
   "metadata": {},
   "outputs": [
    {
     "data": {
      "text/plain": [
       "array([10, 20, 30, 40])"
      ]
     },
     "execution_count": 16,
     "metadata": {},
     "output_type": "execute_result"
    }
   ],
   "source": [
    "b.max(axis=0) #maximum "
   ]
  },
  {
   "cell_type": "code",
   "execution_count": 17,
   "id": "2859c862",
   "metadata": {},
   "outputs": [
    {
     "data": {
      "text/plain": [
       "array([32, 34, 36, 38, 40])"
      ]
     },
     "execution_count": 17,
     "metadata": {},
     "output_type": "execute_result"
    }
   ],
   "source": [
    "b.max(axis=1) #maximum "
   ]
  },
  {
   "cell_type": "code",
   "execution_count": null,
   "id": "0783ed0e",
   "metadata": {},
   "outputs": [],
   "source": []
  },
  {
   "cell_type": "code",
   "execution_count": 20,
   "id": "a869c384",
   "metadata": {},
   "outputs": [
    {
     "data": {
      "text/plain": [
       "2"
      ]
     },
     "execution_count": 20,
     "metadata": {},
     "output_type": "execute_result"
    }
   ],
   "source": [
    "b.min() #minimum "
   ]
  },
  {
   "cell_type": "code",
   "execution_count": 21,
   "id": "49bccc39",
   "metadata": {},
   "outputs": [
    {
     "data": {
      "text/plain": [
       "21.0"
      ]
     },
     "execution_count": 21,
     "metadata": {},
     "output_type": "execute_result"
    }
   ],
   "source": [
    "b.mean() #mean "
   ]
  },
  {
   "cell_type": "code",
   "execution_count": 22,
   "id": "cb75fd26",
   "metadata": {},
   "outputs": [
    {
     "data": {
      "text/plain": [
       "21.0"
      ]
     },
     "execution_count": 22,
     "metadata": {},
     "output_type": "execute_result"
    }
   ],
   "source": [
    "np.median(b) #median"
   ]
  },
  {
   "cell_type": "code",
   "execution_count": 23,
   "id": "cdd5da47",
   "metadata": {},
   "outputs": [
    {
     "data": {
      "text/plain": [
       "11.532562594670797"
      ]
     },
     "execution_count": 23,
     "metadata": {},
     "output_type": "execute_result"
    }
   ],
   "source": [
    "b.std() #standard deviation"
   ]
  },
  {
   "cell_type": "code",
   "execution_count": 24,
   "id": "638c2605",
   "metadata": {},
   "outputs": [
    {
     "data": {
      "text/plain": [
       "133.0"
      ]
     },
     "execution_count": 24,
     "metadata": {},
     "output_type": "execute_result"
    }
   ],
   "source": [
    "b.var() #variance"
   ]
  },
  {
   "cell_type": "code",
   "execution_count": 28,
   "id": "eb2f8250",
   "metadata": {},
   "outputs": [
    {
     "data": {
      "text/plain": [
       "5.800000000000001"
      ]
     },
     "execution_count": 28,
     "metadata": {},
     "output_type": "execute_result"
    }
   ],
   "source": [
    "np.percentile(b, 10) #10th percentile"
   ]
  },
  {
   "cell_type": "code",
   "execution_count": 30,
   "id": "7413fc65-e67e-43da-8b3b-1d6aea8db573",
   "metadata": {},
   "outputs": [
    {
     "data": {
      "text/plain": [
       "array([[ 2, 12, 22, 32],\n",
       "       [ 4, 14, 24, 34],\n",
       "       [ 6, 16, 26, 36],\n",
       "       [ 8, 18, 28, 38],\n",
       "       [10, 20, 30, 40]])"
      ]
     },
     "execution_count": 30,
     "metadata": {},
     "output_type": "execute_result"
    }
   ],
   "source": [
    "b"
   ]
  },
  {
   "cell_type": "code",
   "execution_count": null,
   "id": "ac8e668e-e0c8-4dd8-b5eb-d3d6c36b90a2",
   "metadata": {},
   "outputs": [],
   "source": [
    "100 ==> 50th\n",
    "21 ==>  11th"
   ]
  },
  {
   "cell_type": "code",
   "execution_count": 32,
   "id": "075cbdbb-1795-499f-80d8-6c571f89a683",
   "metadata": {},
   "outputs": [
    {
     "data": {
      "text/plain": [
       "[1, 2, 3, 4, 5, 6, 7, 8, 9, 10, 11, 12, 13, 14, 15, 16, 17, 18, 19, 20]"
      ]
     },
     "execution_count": 32,
     "metadata": {},
     "output_type": "execute_result"
    }
   ],
   "source": [
    "list(range(1,21))"
   ]
  },
  {
   "cell_type": "code",
   "execution_count": 35,
   "id": "ce6fa24a-149c-4d74-80c6-5c0d203c59dc",
   "metadata": {},
   "outputs": [],
   "source": [
    "cc=b.flatten()"
   ]
  },
  {
   "cell_type": "code",
   "execution_count": 36,
   "id": "df81d01b-91f3-4ff3-b6cb-0eda54f06c16",
   "metadata": {},
   "outputs": [],
   "source": [
    "cc.sort()"
   ]
  },
  {
   "cell_type": "code",
   "execution_count": 37,
   "id": "17956ad6-63ba-44d0-87f2-09711f89567a",
   "metadata": {},
   "outputs": [
    {
     "data": {
      "text/plain": [
       "array([ 2,  4,  6,  8, 10, 12, 14, 16, 18, 20, 22, 24, 26, 28, 30, 32, 34,\n",
       "       36, 38, 40])"
      ]
     },
     "execution_count": 37,
     "metadata": {},
     "output_type": "execute_result"
    }
   ],
   "source": [
    "cc"
   ]
  },
  {
   "cell_type": "code",
   "execution_count": 38,
   "id": "539666d4-fe5a-46a3-84fc-e02b08006bd8",
   "metadata": {},
   "outputs": [
    {
     "data": {
      "text/plain": [
       "21.0"
      ]
     },
     "execution_count": 38,
     "metadata": {},
     "output_type": "execute_result"
    }
   ],
   "source": [
    "(20+22)/2"
   ]
  },
  {
   "cell_type": "code",
   "execution_count": 31,
   "id": "d0f1e523-7790-486e-9807-a6c8df588596",
   "metadata": {},
   "outputs": [
    {
     "data": {
      "text/plain": [
       "21.0"
      ]
     },
     "execution_count": 31,
     "metadata": {},
     "output_type": "execute_result"
    }
   ],
   "source": [
    "np.percentile(b, 50)"
   ]
  },
  {
   "cell_type": "code",
   "execution_count": 27,
   "id": "b4171abd",
   "metadata": {},
   "outputs": [
    {
     "data": {
      "text/plain": [
       "36.2"
      ]
     },
     "execution_count": 27,
     "metadata": {},
     "output_type": "execute_result"
    }
   ],
   "source": [
    "np.percentile(b, 90) #90th percentile"
   ]
  },
  {
   "cell_type": "code",
   "execution_count": 40,
   "id": "7015621a",
   "metadata": {},
   "outputs": [
    {
     "data": {
      "text/plain": [
       "array([[ 2, 12, 22, 32],\n",
       "       [ 4, 14, 24, 34],\n",
       "       [ 6, 16, 26, 36],\n",
       "       [ 8, 18, 28, 38],\n",
       "       [10, 20, 30, 40]])"
      ]
     },
     "execution_count": 40,
     "metadata": {},
     "output_type": "execute_result"
    }
   ],
   "source": [
    "b"
   ]
  },
  {
   "cell_type": "code",
   "execution_count": 39,
   "id": "94a96bc1",
   "metadata": {},
   "outputs": [
    {
     "data": {
      "text/plain": [
       "array([[1.41421356, 3.46410162, 4.69041576, 5.65685425],\n",
       "       [2.        , 3.74165739, 4.89897949, 5.83095189],\n",
       "       [2.44948974, 4.        , 5.09901951, 6.        ],\n",
       "       [2.82842712, 4.24264069, 5.29150262, 6.164414  ],\n",
       "       [3.16227766, 4.47213595, 5.47722558, 6.32455532]])"
      ]
     },
     "execution_count": 39,
     "metadata": {},
     "output_type": "execute_result"
    }
   ],
   "source": [
    "np.sqrt(b) #square root of all elements"
   ]
  },
  {
   "cell_type": "code",
   "execution_count": 41,
   "id": "dc40d952",
   "metadata": {},
   "outputs": [
    {
     "data": {
      "text/plain": [
       "array([[7.38905610e+00, 1.62754791e+05, 3.58491285e+09, 7.89629602e+13],\n",
       "       [5.45981500e+01, 1.20260428e+06, 2.64891221e+10, 5.83461743e+14],\n",
       "       [4.03428793e+02, 8.88611052e+06, 1.95729609e+11, 4.31123155e+15],\n",
       "       [2.98095799e+03, 6.56599691e+07, 1.44625706e+12, 3.18559318e+16],\n",
       "       [2.20264658e+04, 4.85165195e+08, 1.06864746e+13, 2.35385267e+17]])"
      ]
     },
     "execution_count": 41,
     "metadata": {},
     "output_type": "execute_result"
    }
   ],
   "source": [
    "np.exp(b) #exponentiation with e"
   ]
  },
  {
   "cell_type": "code",
   "execution_count": 42,
   "id": "8daca1a1",
   "metadata": {},
   "outputs": [
    {
     "data": {
      "text/plain": [
       "array([[0.69314718, 2.48490665, 3.09104245, 3.4657359 ],\n",
       "       [1.38629436, 2.63905733, 3.17805383, 3.52636052],\n",
       "       [1.79175947, 2.77258872, 3.25809654, 3.58351894],\n",
       "       [2.07944154, 2.89037176, 3.33220451, 3.63758616],\n",
       "       [2.30258509, 2.99573227, 3.40119738, 3.68887945]])"
      ]
     },
     "execution_count": 42,
     "metadata": {},
     "output_type": "execute_result"
    }
   ],
   "source": [
    "np.log(b) #natural logarithm"
   ]
  },
  {
   "cell_type": "code",
   "execution_count": 44,
   "id": "c2c46dbc",
   "metadata": {},
   "outputs": [
    {
     "data": {
      "text/plain": [
       "array([-1.7, -1.5, -0.2,  0.2,  1.5,  1.7,  2. ])"
      ]
     },
     "execution_count": 44,
     "metadata": {},
     "output_type": "execute_result"
    }
   ],
   "source": [
    "c = np.array([-1.7, -1.5, -0.2, 0.2, 1.5, 1.7, 2.0])\n",
    "c"
   ]
  },
  {
   "cell_type": "code",
   "execution_count": 45,
   "id": "f509a771",
   "metadata": {},
   "outputs": [
    {
     "data": {
      "text/plain": [
       "array([1.7, 1.5, 0.2, 0.2, 1.5, 1.7, 2. ])"
      ]
     },
     "execution_count": 45,
     "metadata": {},
     "output_type": "execute_result"
    }
   ],
   "source": [
    "np.abs(c) #absolute values of all elements"
   ]
  },
  {
   "cell_type": "code",
   "execution_count": null,
   "id": "9fb0cecb",
   "metadata": {},
   "outputs": [],
   "source": []
  },
  {
   "cell_type": "code",
   "execution_count": 46,
   "id": "be0f8f38",
   "metadata": {},
   "outputs": [],
   "source": [
    "d=np.array([1.7, 3.1, 0.2, 4.2, 1.5, 2.7, 5.2 ])"
   ]
  },
  {
   "cell_type": "code",
   "execution_count": 47,
   "id": "d4c35736-1a32-41b1-885e-6645b88d6025",
   "metadata": {},
   "outputs": [
    {
     "data": {
      "text/plain": [
       "array([1.7, 3.1, 0.2, 4.2, 1.5, 2.7, 5.2])"
      ]
     },
     "execution_count": 47,
     "metadata": {},
     "output_type": "execute_result"
    }
   ],
   "source": [
    "d"
   ]
  },
  {
   "cell_type": "code",
   "execution_count": 48,
   "id": "ed4d1d1d",
   "metadata": {},
   "outputs": [
    {
     "data": {
      "text/plain": [
       "array([2., 4., 1., 5., 2., 3., 6.])"
      ]
     },
     "execution_count": 48,
     "metadata": {},
     "output_type": "execute_result"
    }
   ],
   "source": [
    "np.ceil(d) #element-wise rounding up"
   ]
  },
  {
   "cell_type": "code",
   "execution_count": 49,
   "id": "e64049a4",
   "metadata": {},
   "outputs": [
    {
     "data": {
      "text/plain": [
       "array([1., 3., 0., 4., 1., 2., 5.])"
      ]
     },
     "execution_count": 49,
     "metadata": {},
     "output_type": "execute_result"
    }
   ],
   "source": [
    "np.floor(d) #element-wise rounding down"
   ]
  },
  {
   "cell_type": "code",
   "execution_count": 53,
   "id": "6902e1b9",
   "metadata": {},
   "outputs": [
    {
     "data": {
      "text/plain": [
       "array([-3.2, -0.8,  1.4,  2.6])"
      ]
     },
     "execution_count": 53,
     "metadata": {},
     "output_type": "execute_result"
    }
   ],
   "source": [
    "np.around([-3.23, -0.76, 1.44, 2.65, ], decimals = 1) #evenly round all elements to the given number of decimals."
   ]
  },
  {
   "cell_type": "code",
   "execution_count": 52,
   "id": "40954c9c",
   "metadata": {},
   "outputs": [
    {
     "data": {
      "text/plain": [
       "array([-3.3, -0.8,  1.4,  2.6])"
      ]
     },
     "execution_count": 52,
     "metadata": {},
     "output_type": "execute_result"
    }
   ],
   "source": [
    "np.around([-3.26, -0.76, 1.44, 2.65, ], decimals = 1) #evenly round all elements to the given number of decimals."
   ]
  },
  {
   "cell_type": "code",
   "execution_count": 55,
   "id": "95ac4295-b7cc-4059-9b61-391927d6c18a",
   "metadata": {},
   "outputs": [
    {
     "data": {
      "text/plain": [
       "3.23"
      ]
     },
     "execution_count": 55,
     "metadata": {},
     "output_type": "execute_result"
    }
   ],
   "source": [
    "round(3.23,2)"
   ]
  },
  {
   "cell_type": "code",
   "execution_count": 56,
   "id": "6d888b4c-57ef-410b-a9dc-d50a9e29d3e0",
   "metadata": {},
   "outputs": [
    {
     "data": {
      "text/plain": [
       "3.2"
      ]
     },
     "execution_count": 56,
     "metadata": {},
     "output_type": "execute_result"
    }
   ],
   "source": [
    "round(3.23,1)"
   ]
  }
 ],
 "metadata": {
  "kernelspec": {
   "display_name": "Python 3 (ipykernel)",
   "language": "python",
   "name": "python3"
  },
  "language_info": {
   "codemirror_mode": {
    "name": "ipython",
    "version": 3
   },
   "file_extension": ".py",
   "mimetype": "text/x-python",
   "name": "python",
   "nbconvert_exporter": "python",
   "pygments_lexer": "ipython3",
   "version": "3.9.7"
  }
 },
 "nbformat": 4,
 "nbformat_minor": 5
}
