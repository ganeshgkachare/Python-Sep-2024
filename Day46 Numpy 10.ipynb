{
 "cells": [
  {
   "cell_type": "markdown",
   "id": "eef7f6d6",
   "metadata": {
    "collapsed": true,
    "jupyter": {
     "outputs_hidden": true
    }
   },
   "source": [
    "### Mathematical functions"
   ]
  },
  {
   "cell_type": "code",
   "execution_count": 1,
   "id": "48680fe0-df82-48bc-92c3-d47b6cd78cf8",
   "metadata": {},
   "outputs": [],
   "source": [
    "import numpy as np"
   ]
  },
  {
   "cell_type": "code",
   "execution_count": 2,
   "id": "b9b58082",
   "metadata": {},
   "outputs": [],
   "source": [
    "b=np.arange(2,41,2).reshape((5,4),order=\"F\")"
   ]
  },
  {
   "cell_type": "code",
   "execution_count": 3,
   "id": "6902e1b9",
   "metadata": {},
   "outputs": [
    {
     "data": {
      "text/plain": [
       "array([-3.2, -0.8,  1.4,  2.6])"
      ]
     },
     "execution_count": 3,
     "metadata": {},
     "output_type": "execute_result"
    }
   ],
   "source": [
    "np.around([-3.23, -0.76, 1.44, 2.65, ], decimals = 1) #evenly round all elements to the given number of decimals."
   ]
  },
  {
   "cell_type": "code",
   "execution_count": 4,
   "id": "40954c9c",
   "metadata": {},
   "outputs": [
    {
     "data": {
      "text/plain": [
       "array([-3.3, -0.8,  1.4,  2.6])"
      ]
     },
     "execution_count": 4,
     "metadata": {},
     "output_type": "execute_result"
    }
   ],
   "source": [
    "np.around([-3.26, -0.76, 1.44, 2.65, ], decimals = 1) #evenly round all elements to the given number of decimals."
   ]
  },
  {
   "cell_type": "code",
   "execution_count": 5,
   "id": "95ac4295-b7cc-4059-9b61-391927d6c18a",
   "metadata": {},
   "outputs": [
    {
     "data": {
      "text/plain": [
       "3.23"
      ]
     },
     "execution_count": 5,
     "metadata": {},
     "output_type": "execute_result"
    }
   ],
   "source": [
    "round(3.23,2)"
   ]
  },
  {
   "cell_type": "code",
   "execution_count": 6,
   "id": "6d888b4c-57ef-410b-a9dc-d50a9e29d3e0",
   "metadata": {},
   "outputs": [
    {
     "data": {
      "text/plain": [
       "3.3"
      ]
     },
     "execution_count": 6,
     "metadata": {},
     "output_type": "execute_result"
    }
   ],
   "source": [
    "round(3.26,1)"
   ]
  },
  {
   "cell_type": "code",
   "execution_count": null,
   "id": "f7623df1-9ed5-4f5c-9142-b9b834353848",
   "metadata": {},
   "outputs": [],
   "source": []
  },
  {
   "cell_type": "markdown",
   "id": "0bbbaee7",
   "metadata": {},
   "source": [
    "### Matrix"
   ]
  },
  {
   "cell_type": "code",
   "execution_count": null,
   "id": "0656c422",
   "metadata": {},
   "outputs": [],
   "source": [
    "# Element-wise operations:\n",
    "# Addition: np.add()\n",
    "# Subtraction: np.subtract()\n",
    "# Division: np.divide()\n",
    "# Multiplication: np.multiply()"
   ]
  },
  {
   "cell_type": "code",
   "execution_count": 7,
   "id": "623b1ed8",
   "metadata": {},
   "outputs": [],
   "source": [
    "# Define two matrices to multiply\n",
    "matrix1 = np.array([[1, 2], [3, 4]])\n",
    "matrix2 = np.array([[5, 6], [7, 7]])"
   ]
  },
  {
   "cell_type": "code",
   "execution_count": 8,
   "id": "04493a4a",
   "metadata": {},
   "outputs": [
    {
     "name": "stdout",
     "output_type": "stream",
     "text": [
      "[[1 2]\n",
      " [3 4]]\n"
     ]
    }
   ],
   "source": [
    "print(matrix1)"
   ]
  },
  {
   "cell_type": "code",
   "execution_count": 9,
   "id": "91a9541a",
   "metadata": {},
   "outputs": [
    {
     "name": "stdout",
     "output_type": "stream",
     "text": [
      "[[5 6]\n",
      " [7 7]]\n"
     ]
    }
   ],
   "source": [
    "print(matrix2)"
   ]
  },
  {
   "cell_type": "code",
   "execution_count": null,
   "id": "456efbf9",
   "metadata": {},
   "outputs": [],
   "source": [
    "# Addition:"
   ]
  },
  {
   "cell_type": "code",
   "execution_count": 10,
   "id": "379e2fea",
   "metadata": {},
   "outputs": [
    {
     "data": {
      "text/plain": [
       "array([[ 6,  8],\n",
       "       [10, 11]])"
      ]
     },
     "execution_count": 10,
     "metadata": {},
     "output_type": "execute_result"
    }
   ],
   "source": [
    "matrix1 + matrix2"
   ]
  },
  {
   "cell_type": "code",
   "execution_count": 11,
   "id": "6e8f096e",
   "metadata": {},
   "outputs": [
    {
     "data": {
      "text/plain": [
       "array([[ 6,  8],\n",
       "       [10, 11]])"
      ]
     },
     "execution_count": 11,
     "metadata": {},
     "output_type": "execute_result"
    }
   ],
   "source": [
    "np.add(matrix1,matrix2)"
   ]
  },
  {
   "cell_type": "code",
   "execution_count": null,
   "id": "24047539",
   "metadata": {},
   "outputs": [],
   "source": []
  },
  {
   "cell_type": "code",
   "execution_count": null,
   "id": "21e07684",
   "metadata": {},
   "outputs": [],
   "source": [
    "# Subtraction:"
   ]
  },
  {
   "cell_type": "code",
   "execution_count": 12,
   "id": "17e96f46",
   "metadata": {},
   "outputs": [
    {
     "data": {
      "text/plain": [
       "array([[-4, -4],\n",
       "       [-4, -3]])"
      ]
     },
     "execution_count": 12,
     "metadata": {},
     "output_type": "execute_result"
    }
   ],
   "source": [
    "matrix1 - matrix2"
   ]
  },
  {
   "cell_type": "code",
   "execution_count": 13,
   "id": "03a7e44b",
   "metadata": {},
   "outputs": [
    {
     "data": {
      "text/plain": [
       "array([[-4, -4],\n",
       "       [-4, -3]])"
      ]
     },
     "execution_count": 13,
     "metadata": {},
     "output_type": "execute_result"
    }
   ],
   "source": [
    "np.subtract(matrix1,matrix2)"
   ]
  },
  {
   "cell_type": "code",
   "execution_count": 14,
   "id": "6da7dd4b",
   "metadata": {},
   "outputs": [
    {
     "data": {
      "text/plain": [
       "array([[4, 4],\n",
       "       [4, 3]])"
      ]
     },
     "execution_count": 14,
     "metadata": {},
     "output_type": "execute_result"
    }
   ],
   "source": [
    "np.subtract(matrix2,matrix1)"
   ]
  },
  {
   "cell_type": "code",
   "execution_count": null,
   "id": "28b0f5da",
   "metadata": {},
   "outputs": [],
   "source": [
    "# Division:"
   ]
  },
  {
   "cell_type": "code",
   "execution_count": 15,
   "id": "5208c463",
   "metadata": {},
   "outputs": [
    {
     "data": {
      "text/plain": [
       "array([[0.2       , 0.33333333],\n",
       "       [0.42857143, 0.57142857]])"
      ]
     },
     "execution_count": 15,
     "metadata": {},
     "output_type": "execute_result"
    }
   ],
   "source": [
    "matrix1 / matrix2"
   ]
  },
  {
   "cell_type": "code",
   "execution_count": 16,
   "id": "444691ee",
   "metadata": {},
   "outputs": [
    {
     "data": {
      "text/plain": [
       "array([[0.2       , 0.33333333],\n",
       "       [0.42857143, 0.57142857]])"
      ]
     },
     "execution_count": 16,
     "metadata": {},
     "output_type": "execute_result"
    }
   ],
   "source": [
    "np.divide(matrix1,matrix2)"
   ]
  },
  {
   "cell_type": "code",
   "execution_count": 19,
   "id": "749a8c1a",
   "metadata": {},
   "outputs": [
    {
     "data": {
      "text/plain": [
       "array([[1, 2],\n",
       "       [3, 4]])"
      ]
     },
     "execution_count": 19,
     "metadata": {},
     "output_type": "execute_result"
    }
   ],
   "source": [
    "matrix1"
   ]
  },
  {
   "cell_type": "code",
   "execution_count": 20,
   "id": "9b1bc02a-9b16-4a7b-b413-397d1c7fd6ff",
   "metadata": {},
   "outputs": [
    {
     "data": {
      "text/plain": [
       "array([[5, 6],\n",
       "       [7, 7]])"
      ]
     },
     "execution_count": 20,
     "metadata": {},
     "output_type": "execute_result"
    }
   ],
   "source": [
    "matrix2"
   ]
  },
  {
   "cell_type": "code",
   "execution_count": null,
   "id": "57a48041",
   "metadata": {},
   "outputs": [],
   "source": [
    "# Multiplication:"
   ]
  },
  {
   "cell_type": "code",
   "execution_count": 17,
   "id": "18359483",
   "metadata": {},
   "outputs": [
    {
     "data": {
      "text/plain": [
       "array([[ 5, 12],\n",
       "       [21, 28]])"
      ]
     },
     "execution_count": 17,
     "metadata": {},
     "output_type": "execute_result"
    }
   ],
   "source": [
    "matrix1 * matrix2"
   ]
  },
  {
   "cell_type": "code",
   "execution_count": 18,
   "id": "0b641802",
   "metadata": {},
   "outputs": [
    {
     "data": {
      "text/plain": [
       "array([[ 5, 12],\n",
       "       [21, 28]])"
      ]
     },
     "execution_count": 18,
     "metadata": {},
     "output_type": "execute_result"
    }
   ],
   "source": [
    "np.multiply(matrix1,matrix2)"
   ]
  },
  {
   "cell_type": "code",
   "execution_count": null,
   "id": "44564f45",
   "metadata": {},
   "outputs": [],
   "source": []
  },
  {
   "cell_type": "markdown",
   "id": "0672447b",
   "metadata": {},
   "source": [
    "### Linear Algebra"
   ]
  },
  {
   "cell_type": "code",
   "execution_count": null,
   "id": "eee0fefb",
   "metadata": {},
   "outputs": [],
   "source": [
    "# np.dot(): Computes the dot product of two arrays. \n",
    "# np.linalg.inv(): Computes the inverse of a matrix.\n",
    "# np.linalg.det(): Computes the determinant of a matrix.\n",
    "# np.linalg.eig(): Computes the eigenvalues and right eigenvectors of a square array."
   ]
  },
  {
   "cell_type": "code",
   "execution_count": 21,
   "id": "d6b23f04",
   "metadata": {},
   "outputs": [
    {
     "name": "stdout",
     "output_type": "stream",
     "text": [
      "[[19 20]\n",
      " [43 46]]\n"
     ]
    }
   ],
   "source": [
    "# Method 1: Using np.dot()\n",
    "result1 = np.dot(matrix1, matrix2)\n",
    "print(result1)"
   ]
  },
  {
   "cell_type": "code",
   "execution_count": 22,
   "id": "ac57d210",
   "metadata": {},
   "outputs": [
    {
     "name": "stdout",
     "output_type": "stream",
     "text": [
      "[[19 20]\n",
      " [43 46]]\n"
     ]
    }
   ],
   "source": [
    "# Method 2: Using @ operator\n",
    "result2 = matrix1 @ matrix2\n",
    "print(result2)"
   ]
  },
  {
   "cell_type": "code",
   "execution_count": null,
   "id": "a5621a27",
   "metadata": {},
   "outputs": [],
   "source": []
  },
  {
   "cell_type": "code",
   "execution_count": 23,
   "id": "dfe6d288-c55d-4557-978b-f52813b37dc7",
   "metadata": {},
   "outputs": [],
   "source": [
    "# Compute the determinant\n",
    "matrix = np.array([[1, 2], [3, 4]])"
   ]
  },
  {
   "cell_type": "code",
   "execution_count": 24,
   "id": "1a6f02ac-2349-4a2e-96b5-6ae277573f9d",
   "metadata": {},
   "outputs": [
    {
     "data": {
      "text/plain": [
       "array([[1, 2],\n",
       "       [3, 4]])"
      ]
     },
     "execution_count": 24,
     "metadata": {},
     "output_type": "execute_result"
    }
   ],
   "source": [
    "matrix"
   ]
  },
  {
   "cell_type": "code",
   "execution_count": 26,
   "id": "7a060bff-950d-4e37-bd6f-4d991050b981",
   "metadata": {},
   "outputs": [
    {
     "name": "stdout",
     "output_type": "stream",
     "text": [
      "-2.0\n"
     ]
    }
   ],
   "source": [
    "det = np.linalg.det(matrix)\n",
    "print(round(det,2))"
   ]
  },
  {
   "cell_type": "code",
   "execution_count": 27,
   "id": "b991d73b",
   "metadata": {},
   "outputs": [
    {
     "name": "stdout",
     "output_type": "stream",
     "text": [
      "[[-2.   1. ]\n",
      " [ 1.5 -0.5]]\n"
     ]
    }
   ],
   "source": [
    "# calculate the inverse\n",
    "matrix_inv = np.linalg.inv(matrix)\n",
    "\n",
    "print(matrix_inv)"
   ]
  },
  {
   "cell_type": "code",
   "execution_count": 30,
   "id": "008b8eab",
   "metadata": {},
   "outputs": [
    {
     "data": {
      "text/plain": [
       "array([[1.0000000e+00, 0.0000000e+00],\n",
       "       [8.8817842e-16, 1.0000000e+00]])"
      ]
     },
     "execution_count": 30,
     "metadata": {},
     "output_type": "execute_result"
    }
   ],
   "source": [
    "#cross check     \n",
    "matrix @ matrix_inv"
   ]
  },
  {
   "cell_type": "code",
   "execution_count": 31,
   "id": "2cb6a710",
   "metadata": {},
   "outputs": [
    {
     "data": {
      "text/plain": [
       "array([[1., 0.],\n",
       "       [0., 1.]])"
      ]
     },
     "execution_count": 31,
     "metadata": {},
     "output_type": "execute_result"
    }
   ],
   "source": [
    "np.around(matrix @ matrix_inv)"
   ]
  },
  {
   "cell_type": "code",
   "execution_count": null,
   "id": "aba4196e",
   "metadata": {},
   "outputs": [],
   "source": []
  },
  {
   "cell_type": "code",
   "execution_count": 32,
   "id": "b8e0ff53",
   "metadata": {},
   "outputs": [
    {
     "data": {
      "text/plain": [
       "(array([-0.37228132,  5.37228132]),\n",
       " array([[-0.82456484, -0.41597356],\n",
       "        [ 0.56576746, -0.90937671]]))"
      ]
     },
     "execution_count": 32,
     "metadata": {},
     "output_type": "execute_result"
    }
   ],
   "source": [
    "np.linalg.eig(matrix)"
   ]
  },
  {
   "cell_type": "code",
   "execution_count": null,
   "id": "c1d1e644",
   "metadata": {},
   "outputs": [],
   "source": []
  },
  {
   "cell_type": "code",
   "execution_count": null,
   "id": "7ad66d0c",
   "metadata": {},
   "outputs": [],
   "source": []
  },
  {
   "cell_type": "code",
   "execution_count": null,
   "id": "d5a5e9b8",
   "metadata": {},
   "outputs": [],
   "source": [
    "#Exercise"
   ]
  },
  {
   "cell_type": "code",
   "execution_count": null,
   "id": "893790ee",
   "metadata": {},
   "outputs": [],
   "source": [
    "#Create array values and practice following examples\n",
    "arr=np.arange(10).reshape(5,2)"
   ]
  },
  {
   "cell_type": "code",
   "execution_count": null,
   "id": "6aa32b32",
   "metadata": {},
   "outputs": [],
   "source": [
    "# Finding the mean of a NumPy array:\n",
    "\n",
    "mean_val = np.mean(arr)\n",
    "mean_val"
   ]
  },
  {
   "cell_type": "code",
   "execution_count": null,
   "id": "ad0aee86",
   "metadata": {},
   "outputs": [],
   "source": [
    "# Finding the median of a NumPy array:\n",
    "\n",
    "median_val = np.median(arr)\n",
    "median_val"
   ]
  },
  {
   "cell_type": "code",
   "execution_count": null,
   "id": "a17a7433",
   "metadata": {},
   "outputs": [],
   "source": [
    "# Finding the standard deviation of a NumPy array:\n",
    "\n",
    "std_val = np.std(arr)\n",
    "std_val"
   ]
  },
  {
   "cell_type": "code",
   "execution_count": null,
   "id": "f92f7599",
   "metadata": {},
   "outputs": [],
   "source": [
    "var_val = np.var(arr)\n",
    "var_val"
   ]
  },
  {
   "cell_type": "code",
   "execution_count": null,
   "id": "f18245f1",
   "metadata": {},
   "outputs": [],
   "source": [
    "# Performing element-wise operations on NumPy arrays:\n",
    "\n",
    "arr_squared = arr ** 2\n",
    "arr_squared"
   ]
  },
  {
   "cell_type": "code",
   "execution_count": null,
   "id": "ce587433",
   "metadata": {},
   "outputs": [],
   "source": [
    "# create an array of data\n",
    "data = np.arange(100)\n",
    "\n",
    "# calculate the mean\n",
    "mean = np.mean(data)\n",
    "print(\"Mean:\", mean)\n",
    "\n",
    "# calculate the median\n",
    "median = np.median(data)\n",
    "print(\"Median:\", median)\n",
    "\n",
    "# calculate the variance\n",
    "variance = np.var(data)\n",
    "print(\"Variance:\", variance)\n",
    "\n",
    "# calculate the standard deviation\n",
    "std_dev = np.std(data)\n",
    "print(\"Standard deviation:\", std_dev)\n",
    "\n",
    "# calculate the minimum and maximum values\n",
    "minimum = np.min(data)\n",
    "maximum = np.max(data)\n",
    "print(\"Minimum:\", minimum)\n",
    "print(\"Maximum:\", maximum)"
   ]
  }
 ],
 "metadata": {
  "kernelspec": {
   "display_name": "Python 3 (ipykernel)",
   "language": "python",
   "name": "python3"
  },
  "language_info": {
   "codemirror_mode": {
    "name": "ipython",
    "version": 3
   },
   "file_extension": ".py",
   "mimetype": "text/x-python",
   "name": "python",
   "nbconvert_exporter": "python",
   "pygments_lexer": "ipython3",
   "version": "3.9.7"
  }
 },
 "nbformat": 4,
 "nbformat_minor": 5
}
