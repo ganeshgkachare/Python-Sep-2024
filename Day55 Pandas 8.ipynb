{
 "cells": [
  {
   "cell_type": "code",
   "execution_count": 1,
   "id": "694449f6-a8d3-4029-95f9-013a8853d131",
   "metadata": {},
   "outputs": [],
   "source": [
    "import pandas as pd"
   ]
  },
  {
   "cell_type": "code",
   "execution_count": 2,
   "id": "f2173e81-8dd7-4722-b016-c573e25171cf",
   "metadata": {},
   "outputs": [],
   "source": [
    "data2=pd.read_excel(r\"C:\\Ganesh\\Minskole Python Batch\\input data.xlsx\")"
   ]
  },
  {
   "cell_type": "code",
   "execution_count": 3,
   "id": "5f8e8d24-07fe-48c9-89a6-7d7a7c343a2e",
   "metadata": {},
   "outputs": [
    {
     "data": {
      "text/html": [
       "<div>\n",
       "<style scoped>\n",
       "    .dataframe tbody tr th:only-of-type {\n",
       "        vertical-align: middle;\n",
       "    }\n",
       "\n",
       "    .dataframe tbody tr th {\n",
       "        vertical-align: top;\n",
       "    }\n",
       "\n",
       "    .dataframe thead th {\n",
       "        text-align: right;\n",
       "    }\n",
       "</style>\n",
       "<table border=\"1\" class=\"dataframe\">\n",
       "  <thead>\n",
       "    <tr style=\"text-align: right;\">\n",
       "      <th></th>\n",
       "      <th>First Name</th>\n",
       "      <th>Last Name</th>\n",
       "      <th>English</th>\n",
       "      <th>Physics</th>\n",
       "      <th>Chemistry</th>\n",
       "      <th>Mathematics</th>\n",
       "    </tr>\n",
       "  </thead>\n",
       "  <tbody>\n",
       "    <tr>\n",
       "      <th>0</th>\n",
       "      <td>Aarav</td>\n",
       "      <td>Patil</td>\n",
       "      <td>85</td>\n",
       "      <td>78</td>\n",
       "      <td>90</td>\n",
       "      <td>92</td>\n",
       "    </tr>\n",
       "    <tr>\n",
       "      <th>1</th>\n",
       "      <td>Vihaan</td>\n",
       "      <td>Deshmukh</td>\n",
       "      <td>88</td>\n",
       "      <td>81</td>\n",
       "      <td>85</td>\n",
       "      <td>89</td>\n",
       "    </tr>\n",
       "    <tr>\n",
       "      <th>2</th>\n",
       "      <td>Ayaan</td>\n",
       "      <td>Jadhav</td>\n",
       "      <td>90</td>\n",
       "      <td>75</td>\n",
       "      <td>88</td>\n",
       "      <td>84</td>\n",
       "    </tr>\n",
       "    <tr>\n",
       "      <th>3</th>\n",
       "      <td>Arjun</td>\n",
       "      <td>More</td>\n",
       "      <td>76</td>\n",
       "      <td>89</td>\n",
       "      <td>91</td>\n",
       "      <td>78</td>\n",
       "    </tr>\n",
       "    <tr>\n",
       "      <th>4</th>\n",
       "      <td>Reyansh</td>\n",
       "      <td>Joshi</td>\n",
       "      <td>82</td>\n",
       "      <td>80</td>\n",
       "      <td>84</td>\n",
       "      <td>85</td>\n",
       "    </tr>\n",
       "    <tr>\n",
       "      <th>...</th>\n",
       "      <td>...</td>\n",
       "      <td>...</td>\n",
       "      <td>...</td>\n",
       "      <td>...</td>\n",
       "      <td>...</td>\n",
       "      <td>...</td>\n",
       "    </tr>\n",
       "    <tr>\n",
       "      <th>60</th>\n",
       "      <td>Tarun</td>\n",
       "      <td>Dhumal</td>\n",
       "      <td>82</td>\n",
       "      <td>87</td>\n",
       "      <td>81</td>\n",
       "      <td>85</td>\n",
       "    </tr>\n",
       "    <tr>\n",
       "      <th>61</th>\n",
       "      <td>Arnav</td>\n",
       "      <td>Khedkar</td>\n",
       "      <td>85</td>\n",
       "      <td>90</td>\n",
       "      <td>78</td>\n",
       "      <td>89</td>\n",
       "    </tr>\n",
       "    <tr>\n",
       "      <th>62</th>\n",
       "      <td>Payal</td>\n",
       "      <td>Patil</td>\n",
       "      <td>89</td>\n",
       "      <td>76</td>\n",
       "      <td>87</td>\n",
       "      <td>91</td>\n",
       "    </tr>\n",
       "    <tr>\n",
       "      <th>63</th>\n",
       "      <td>Rahul</td>\n",
       "      <td>Kadam</td>\n",
       "      <td>81</td>\n",
       "      <td>83</td>\n",
       "      <td>84</td>\n",
       "      <td>90</td>\n",
       "    </tr>\n",
       "    <tr>\n",
       "      <th>64</th>\n",
       "      <td>Jay</td>\n",
       "      <td>Bhagat</td>\n",
       "      <td>90</td>\n",
       "      <td>77</td>\n",
       "      <td>65</td>\n",
       "      <td>88</td>\n",
       "    </tr>\n",
       "  </tbody>\n",
       "</table>\n",
       "<p>65 rows × 6 columns</p>\n",
       "</div>"
      ],
      "text/plain": [
       "   First Name Last Name  English  Physics  Chemistry  Mathematics\n",
       "0       Aarav     Patil       85       78         90           92\n",
       "1      Vihaan  Deshmukh       88       81         85           89\n",
       "2       Ayaan    Jadhav       90       75         88           84\n",
       "3       Arjun      More       76       89         91           78\n",
       "4     Reyansh     Joshi       82       80         84           85\n",
       "..        ...       ...      ...      ...        ...          ...\n",
       "60      Tarun    Dhumal       82       87         81           85\n",
       "61      Arnav   Khedkar       85       90         78           89\n",
       "62      Payal     Patil       89       76         87           91\n",
       "63      Rahul     Kadam       81       83         84           90\n",
       "64        Jay    Bhagat       90       77         65           88\n",
       "\n",
       "[65 rows x 6 columns]"
      ]
     },
     "execution_count": 3,
     "metadata": {},
     "output_type": "execute_result"
    }
   ],
   "source": [
    "data2"
   ]
  },
  {
   "cell_type": "code",
   "execution_count": null,
   "id": "73487a5c-81ab-4b68-b418-82d8168eb8c2",
   "metadata": {},
   "outputs": [],
   "source": [
    " 1D:\n",
    "variable[0] ==> First element \n",
    "2D\n",
    "variable[0] ==> First row ==> Multiple value==> Slice\n",
    "# variable[0,0] ==> First row ==> Simgle value==> Imdexing\n",
    "\n",
    "Excel ==>2D\n",
    "Indexing==> variable[row,column]\n"
   ]
  },
  {
   "cell_type": "code",
   "execution_count": null,
   "id": "167fa475-c7b4-4b37-a77b-a13040197755",
   "metadata": {},
   "outputs": [],
   "source": []
  },
  {
   "cell_type": "markdown",
   "id": "5f666d05-53f9-40ab-b6c5-618aba5f1612",
   "metadata": {},
   "source": [
    " Slicing data from the Pandas DataFrame:\n",
    " 1) loc for label-based slicing:Selecting rows and columns using labels # last index included\n",
    " 2) iloc for positional slicing:Selecting rows and columns by integer position # last index excluded\n",
    " 3) at for quick access to single values\n",
    " 4) iat for quick access to single values by position"
   ]
  },
  {
   "cell_type": "code",
   "execution_count": null,
   "id": "52e4cd08-bdf7-4622-9001-cdd3e895805d",
   "metadata": {},
   "outputs": [],
   "source": [
    "#     0   1  2   3\n",
    "# 0\n",
    "# 1\n",
    "# 2\n",
    "# 3"
   ]
  },
  {
   "cell_type": "code",
   "execution_count": null,
   "id": "e7d728e6-d0fa-4652-a853-48d2958c6cb3",
   "metadata": {},
   "outputs": [],
   "source": [
    "# data2=pd.read_excel(r\"C:\\Ganesh\\Minskole Python Batch\\input data.xlsx\")"
   ]
  },
  {
   "cell_type": "code",
   "execution_count": null,
   "id": "48fda2d2-229c-48f8-923f-af58199aab49",
   "metadata": {},
   "outputs": [],
   "source": [
    "data2"
   ]
  },
  {
   "cell_type": "code",
   "execution_count": 5,
   "id": "a3bccb2f-fbaf-43b4-aa1c-ba08077640be",
   "metadata": {},
   "outputs": [
    {
     "data": {
      "text/plain": [
       "First Name     Aarav\n",
       "Last Name      Patil\n",
       "English           85\n",
       "Physics           78\n",
       "Chemistry         90\n",
       "Mathematics       92\n",
       "Name: 0, dtype: object"
      ]
     },
     "execution_count": 5,
     "metadata": {},
     "output_type": "execute_result"
    }
   ],
   "source": [
    "data2.loc[0] # Select the first row using label"
   ]
  },
  {
   "cell_type": "code",
   "execution_count": 6,
   "id": "61c22ed7-8c36-47b1-a875-23eb5a7b4112",
   "metadata": {},
   "outputs": [
    {
     "data": {
      "text/html": [
       "<div>\n",
       "<style scoped>\n",
       "    .dataframe tbody tr th:only-of-type {\n",
       "        vertical-align: middle;\n",
       "    }\n",
       "\n",
       "    .dataframe tbody tr th {\n",
       "        vertical-align: top;\n",
       "    }\n",
       "\n",
       "    .dataframe thead th {\n",
       "        text-align: right;\n",
       "    }\n",
       "</style>\n",
       "<table border=\"1\" class=\"dataframe\">\n",
       "  <thead>\n",
       "    <tr style=\"text-align: right;\">\n",
       "      <th></th>\n",
       "      <th>First Name</th>\n",
       "      <th>Last Name</th>\n",
       "      <th>English</th>\n",
       "      <th>Physics</th>\n",
       "      <th>Chemistry</th>\n",
       "      <th>Mathematics</th>\n",
       "    </tr>\n",
       "  </thead>\n",
       "  <tbody>\n",
       "    <tr>\n",
       "      <th>0</th>\n",
       "      <td>Aarav</td>\n",
       "      <td>Patil</td>\n",
       "      <td>85</td>\n",
       "      <td>78</td>\n",
       "      <td>90</td>\n",
       "      <td>92</td>\n",
       "    </tr>\n",
       "    <tr>\n",
       "      <th>1</th>\n",
       "      <td>Vihaan</td>\n",
       "      <td>Deshmukh</td>\n",
       "      <td>88</td>\n",
       "      <td>81</td>\n",
       "      <td>85</td>\n",
       "      <td>89</td>\n",
       "    </tr>\n",
       "    <tr>\n",
       "      <th>2</th>\n",
       "      <td>Ayaan</td>\n",
       "      <td>Jadhav</td>\n",
       "      <td>90</td>\n",
       "      <td>75</td>\n",
       "      <td>88</td>\n",
       "      <td>84</td>\n",
       "    </tr>\n",
       "    <tr>\n",
       "      <th>3</th>\n",
       "      <td>Arjun</td>\n",
       "      <td>More</td>\n",
       "      <td>76</td>\n",
       "      <td>89</td>\n",
       "      <td>91</td>\n",
       "      <td>78</td>\n",
       "    </tr>\n",
       "  </tbody>\n",
       "</table>\n",
       "</div>"
      ],
      "text/plain": [
       "  First Name Last Name  English  Physics  Chemistry  Mathematics\n",
       "0      Aarav     Patil       85       78         90           92\n",
       "1     Vihaan  Deshmukh       88       81         85           89\n",
       "2      Ayaan    Jadhav       90       75         88           84\n",
       "3      Arjun      More       76       89         91           78"
      ]
     },
     "execution_count": 6,
     "metadata": {},
     "output_type": "execute_result"
    }
   ],
   "source": [
    "data2.loc[0:3]  # last index included"
   ]
  },
  {
   "cell_type": "code",
   "execution_count": 14,
   "id": "1d44fdfd-ea71-4233-aaca-805e8d761c4a",
   "metadata": {},
   "outputs": [],
   "source": [
    "data3=data2.sort_values(by=\"Last Name\")"
   ]
  },
  {
   "cell_type": "code",
   "execution_count": 9,
   "id": "b5bd6703-91d8-4ea8-bb10-aa10f5c32c0f",
   "metadata": {},
   "outputs": [],
   "source": [
    "data3=data2.rename(columns={\"First Name\":0})"
   ]
  },
  {
   "cell_type": "code",
   "execution_count": 18,
   "id": "afc2572b-3c22-439b-a5c6-9aa475815e21",
   "metadata": {},
   "outputs": [
    {
     "data": {
      "text/html": [
       "<div>\n",
       "<style scoped>\n",
       "    .dataframe tbody tr th:only-of-type {\n",
       "        vertical-align: middle;\n",
       "    }\n",
       "\n",
       "    .dataframe tbody tr th {\n",
       "        vertical-align: top;\n",
       "    }\n",
       "\n",
       "    .dataframe thead th {\n",
       "        text-align: right;\n",
       "    }\n",
       "</style>\n",
       "<table border=\"1\" class=\"dataframe\">\n",
       "  <thead>\n",
       "    <tr style=\"text-align: right;\">\n",
       "      <th></th>\n",
       "      <th>First Name</th>\n",
       "      <th>Last Name</th>\n",
       "      <th>English</th>\n",
       "      <th>Physics</th>\n",
       "      <th>Chemistry</th>\n",
       "      <th>Mathematics</th>\n",
       "    </tr>\n",
       "  </thead>\n",
       "  <tbody>\n",
       "    <tr>\n",
       "      <th>0</th>\n",
       "      <td>Aarav</td>\n",
       "      <td>Patil</td>\n",
       "      <td>85</td>\n",
       "      <td>78</td>\n",
       "      <td>90</td>\n",
       "      <td>92</td>\n",
       "    </tr>\n",
       "    <tr>\n",
       "      <th>1</th>\n",
       "      <td>Vihaan</td>\n",
       "      <td>Deshmukh</td>\n",
       "      <td>88</td>\n",
       "      <td>81</td>\n",
       "      <td>85</td>\n",
       "      <td>89</td>\n",
       "    </tr>\n",
       "    <tr>\n",
       "      <th>2</th>\n",
       "      <td>Ayaan</td>\n",
       "      <td>Jadhav</td>\n",
       "      <td>90</td>\n",
       "      <td>75</td>\n",
       "      <td>88</td>\n",
       "      <td>84</td>\n",
       "    </tr>\n",
       "  </tbody>\n",
       "</table>\n",
       "</div>"
      ],
      "text/plain": [
       "  First Name Last Name  English  Physics  Chemistry  Mathematics\n",
       "0      Aarav     Patil       85       78         90           92\n",
       "1     Vihaan  Deshmukh       88       81         85           89\n",
       "2      Ayaan    Jadhav       90       75         88           84"
      ]
     },
     "execution_count": 18,
     "metadata": {},
     "output_type": "execute_result"
    }
   ],
   "source": [
    "data2.head(3)"
   ]
  },
  {
   "cell_type": "code",
   "execution_count": 17,
   "id": "5d96d018-57e8-4a6f-a502-bf4e24832556",
   "metadata": {},
   "outputs": [
    {
     "data": {
      "text/html": [
       "<div>\n",
       "<style scoped>\n",
       "    .dataframe tbody tr th:only-of-type {\n",
       "        vertical-align: middle;\n",
       "    }\n",
       "\n",
       "    .dataframe tbody tr th {\n",
       "        vertical-align: top;\n",
       "    }\n",
       "\n",
       "    .dataframe thead th {\n",
       "        text-align: right;\n",
       "    }\n",
       "</style>\n",
       "<table border=\"1\" class=\"dataframe\">\n",
       "  <thead>\n",
       "    <tr style=\"text-align: right;\">\n",
       "      <th></th>\n",
       "      <th>First Name</th>\n",
       "      <th>Last Name</th>\n",
       "      <th>English</th>\n",
       "      <th>Physics</th>\n",
       "      <th>Chemistry</th>\n",
       "      <th>Mathematics</th>\n",
       "    </tr>\n",
       "  </thead>\n",
       "  <tbody>\n",
       "    <tr>\n",
       "      <th>64</th>\n",
       "      <td>Jay</td>\n",
       "      <td>Bhagat</td>\n",
       "      <td>90</td>\n",
       "      <td>77</td>\n",
       "      <td>65</td>\n",
       "      <td>88</td>\n",
       "    </tr>\n",
       "    <tr>\n",
       "      <th>41</th>\n",
       "      <td>Jaya</td>\n",
       "      <td>Bhagat</td>\n",
       "      <td>92</td>\n",
       "      <td>88</td>\n",
       "      <td>76</td>\n",
       "      <td>89</td>\n",
       "    </tr>\n",
       "    <tr>\n",
       "      <th>56</th>\n",
       "      <td>Aarvi</td>\n",
       "      <td>Bhandari</td>\n",
       "      <td>90</td>\n",
       "      <td>81</td>\n",
       "      <td>85</td>\n",
       "      <td>91</td>\n",
       "    </tr>\n",
       "  </tbody>\n",
       "</table>\n",
       "</div>"
      ],
      "text/plain": [
       "   First Name Last Name  English  Physics  Chemistry  Mathematics\n",
       "64        Jay    Bhagat       90       77         65           88\n",
       "41       Jaya    Bhagat       92       88         76           89\n",
       "56      Aarvi  Bhandari       90       81         85           91"
      ]
     },
     "execution_count": 17,
     "metadata": {},
     "output_type": "execute_result"
    }
   ],
   "source": [
    "data3.head(3)"
   ]
  },
  {
   "cell_type": "code",
   "execution_count": null,
   "id": "81eb47ee-0c5c-4b87-8d27-ea918a59d75c",
   "metadata": {},
   "outputs": [],
   "source": []
  },
  {
   "cell_type": "code",
   "execution_count": null,
   "id": "0b70ff22-63ba-4306-acaf-ac719f148e24",
   "metadata": {},
   "outputs": [],
   "source": []
  },
  {
   "cell_type": "code",
   "execution_count": null,
   "id": "1b5630f8-2910-4b12-957c-e5f520714c0c",
   "metadata": {},
   "outputs": [],
   "source": []
  },
  {
   "cell_type": "code",
   "execution_count": null,
   "id": "58d99c43-da07-4de3-b08a-bea73e36fb78",
   "metadata": {},
   "outputs": [],
   "source": []
  },
  {
   "cell_type": "code",
   "execution_count": 19,
   "id": "be501fc2-4f72-453a-9f95-e3618314420a",
   "metadata": {},
   "outputs": [
    {
     "data": {
      "text/plain": [
       "First Name     Aarav\n",
       "Last Name      Patil\n",
       "English           85\n",
       "Physics           78\n",
       "Chemistry         90\n",
       "Mathematics       92\n",
       "Name: 0, dtype: object"
      ]
     },
     "execution_count": 19,
     "metadata": {},
     "output_type": "execute_result"
    }
   ],
   "source": [
    "data2.loc[0]"
   ]
  },
  {
   "cell_type": "code",
   "execution_count": 20,
   "id": "a6016bdc-b45c-4fed-bf8d-4009960fe5aa",
   "metadata": {},
   "outputs": [
    {
     "data": {
      "text/plain": [
       "First Name     Aarav\n",
       "Last Name      Patil\n",
       "English           85\n",
       "Physics           78\n",
       "Chemistry         90\n",
       "Mathematics       92\n",
       "Name: 0, dtype: object"
      ]
     },
     "execution_count": 20,
     "metadata": {},
     "output_type": "execute_result"
    }
   ],
   "source": [
    "data3.loc[0]"
   ]
  },
  {
   "cell_type": "code",
   "execution_count": 21,
   "id": "d5224b75-7620-4692-af2c-3b1495a1eda9",
   "metadata": {},
   "outputs": [
    {
     "data": {
      "text/plain": [
       "First Name        Jay\n",
       "Last Name      Bhagat\n",
       "English            90\n",
       "Physics            77\n",
       "Chemistry          65\n",
       "Mathematics        88\n",
       "Name: 64, dtype: object"
      ]
     },
     "execution_count": 21,
     "metadata": {},
     "output_type": "execute_result"
    }
   ],
   "source": [
    "data3.iloc[0]"
   ]
  },
  {
   "cell_type": "code",
   "execution_count": 23,
   "id": "b24f10bc-7d6f-41f9-9c6e-1e3c247c2244",
   "metadata": {},
   "outputs": [
    {
     "data": {
      "text/html": [
       "<div>\n",
       "<style scoped>\n",
       "    .dataframe tbody tr th:only-of-type {\n",
       "        vertical-align: middle;\n",
       "    }\n",
       "\n",
       "    .dataframe tbody tr th {\n",
       "        vertical-align: top;\n",
       "    }\n",
       "\n",
       "    .dataframe thead th {\n",
       "        text-align: right;\n",
       "    }\n",
       "</style>\n",
       "<table border=\"1\" class=\"dataframe\">\n",
       "  <thead>\n",
       "    <tr style=\"text-align: right;\">\n",
       "      <th></th>\n",
       "      <th>First Name</th>\n",
       "      <th>Last Name</th>\n",
       "      <th>English</th>\n",
       "      <th>Physics</th>\n",
       "      <th>Chemistry</th>\n",
       "      <th>Mathematics</th>\n",
       "    </tr>\n",
       "  </thead>\n",
       "  <tbody>\n",
       "    <tr>\n",
       "      <th>64</th>\n",
       "      <td>Jay</td>\n",
       "      <td>Bhagat</td>\n",
       "      <td>90</td>\n",
       "      <td>77</td>\n",
       "      <td>65</td>\n",
       "      <td>88</td>\n",
       "    </tr>\n",
       "    <tr>\n",
       "      <th>41</th>\n",
       "      <td>Jaya</td>\n",
       "      <td>Bhagat</td>\n",
       "      <td>92</td>\n",
       "      <td>88</td>\n",
       "      <td>76</td>\n",
       "      <td>89</td>\n",
       "    </tr>\n",
       "    <tr>\n",
       "      <th>56</th>\n",
       "      <td>Aarvi</td>\n",
       "      <td>Bhandari</td>\n",
       "      <td>90</td>\n",
       "      <td>81</td>\n",
       "      <td>85</td>\n",
       "      <td>91</td>\n",
       "    </tr>\n",
       "    <tr>\n",
       "      <th>33</th>\n",
       "      <td>Aarvi</td>\n",
       "      <td>Bhandari</td>\n",
       "      <td>90</td>\n",
       "      <td>81</td>\n",
       "      <td>85</td>\n",
       "      <td>91</td>\n",
       "    </tr>\n",
       "    <tr>\n",
       "      <th>8</th>\n",
       "      <td>Krish</td>\n",
       "      <td>Bhosale</td>\n",
       "      <td>80</td>\n",
       "      <td>85</td>\n",
       "      <td>83</td>\n",
       "      <td>89</td>\n",
       "    </tr>\n",
       "    <tr>\n",
       "      <th>18</th>\n",
       "      <td>Krish</td>\n",
       "      <td>Bhosale</td>\n",
       "      <td>80</td>\n",
       "      <td>85</td>\n",
       "      <td>83</td>\n",
       "      <td>89</td>\n",
       "    </tr>\n",
       "    <tr>\n",
       "      <th>51</th>\n",
       "      <td>Disha</td>\n",
       "      <td>Chavan</td>\n",
       "      <td>86</td>\n",
       "      <td>83</td>\n",
       "      <td>80</td>\n",
       "      <td>89</td>\n",
       "    </tr>\n",
       "    <tr>\n",
       "      <th>28</th>\n",
       "      <td>Disha</td>\n",
       "      <td>Chavan</td>\n",
       "      <td>86</td>\n",
       "      <td>83</td>\n",
       "      <td>80</td>\n",
       "      <td>89</td>\n",
       "    </tr>\n",
       "    <tr>\n",
       "      <th>42</th>\n",
       "      <td>Misha</td>\n",
       "      <td>Choudhary</td>\n",
       "      <td>78</td>\n",
       "      <td>85</td>\n",
       "      <td>90</td>\n",
       "      <td>86</td>\n",
       "    </tr>\n",
       "    <tr>\n",
       "      <th>52</th>\n",
       "      <td>Shreya</td>\n",
       "      <td>Dandekar</td>\n",
       "      <td>89</td>\n",
       "      <td>75</td>\n",
       "      <td>88</td>\n",
       "      <td>90</td>\n",
       "    </tr>\n",
       "  </tbody>\n",
       "</table>\n",
       "</div>"
      ],
      "text/plain": [
       "   First Name  Last Name  English  Physics  Chemistry  Mathematics\n",
       "64        Jay     Bhagat       90       77         65           88\n",
       "41       Jaya     Bhagat       92       88         76           89\n",
       "56      Aarvi   Bhandari       90       81         85           91\n",
       "33      Aarvi   Bhandari       90       81         85           91\n",
       "8       Krish    Bhosale       80       85         83           89\n",
       "18      Krish    Bhosale       80       85         83           89\n",
       "51      Disha     Chavan       86       83         80           89\n",
       "28      Disha     Chavan       86       83         80           89\n",
       "42      Misha  Choudhary       78       85         90           86\n",
       "52     Shreya   Dandekar       89       75         88           90"
      ]
     },
     "execution_count": 23,
     "metadata": {},
     "output_type": "execute_result"
    }
   ],
   "source": [
    "data3.head(10)"
   ]
  },
  {
   "cell_type": "code",
   "execution_count": 25,
   "id": "feb81162-3dc8-4e80-be08-110dc41753d1",
   "metadata": {},
   "outputs": [
    {
     "data": {
      "text/plain": [
       "First Name      Disha\n",
       "Last Name      Chavan\n",
       "English            86\n",
       "Physics            83\n",
       "Chemistry          80\n",
       "Mathematics        89\n",
       "Name: 51, dtype: object"
      ]
     },
     "execution_count": 25,
     "metadata": {},
     "output_type": "execute_result"
    }
   ],
   "source": [
    "data3.iloc[6]\n",
    "#     index location   ===> Use by deafaulrt index start from 0"
   ]
  },
  {
   "cell_type": "code",
   "execution_count": null,
   "id": "561d3ff3-ddaf-48c5-b2b0-d43e44696b1f",
   "metadata": {},
   "outputs": [],
   "source": []
  },
  {
   "cell_type": "code",
   "execution_count": 24,
   "id": "c807242b-799a-44f3-9f9a-292b09c58a1f",
   "metadata": {},
   "outputs": [
    {
     "data": {
      "text/plain": [
       "First Name      Disha\n",
       "Last Name      Chavan\n",
       "English            86\n",
       "Physics            83\n",
       "Chemistry          80\n",
       "Mathematics        89\n",
       "Name: 28, dtype: object"
      ]
     },
     "execution_count": 24,
     "metadata": {},
     "output_type": "execute_result"
    }
   ],
   "source": [
    "# 51\tDisha\tChavan\t86\t83\t80\t89\n",
    "data3.loc[28]\n",
    "#   location   ===> Use by user defined"
   ]
  },
  {
   "cell_type": "code",
   "execution_count": 27,
   "id": "f46fab87-71cc-45ca-b4bd-1cbb8e414dbc",
   "metadata": {},
   "outputs": [
    {
     "data": {
      "text/html": [
       "<div>\n",
       "<style scoped>\n",
       "    .dataframe tbody tr th:only-of-type {\n",
       "        vertical-align: middle;\n",
       "    }\n",
       "\n",
       "    .dataframe tbody tr th {\n",
       "        vertical-align: top;\n",
       "    }\n",
       "\n",
       "    .dataframe thead th {\n",
       "        text-align: right;\n",
       "    }\n",
       "</style>\n",
       "<table border=\"1\" class=\"dataframe\">\n",
       "  <thead>\n",
       "    <tr style=\"text-align: right;\">\n",
       "      <th></th>\n",
       "      <th>First Name</th>\n",
       "      <th>Last Name</th>\n",
       "      <th>English</th>\n",
       "      <th>Physics</th>\n",
       "      <th>Chemistry</th>\n",
       "      <th>Mathematics</th>\n",
       "    </tr>\n",
       "  </thead>\n",
       "  <tbody>\n",
       "    <tr>\n",
       "      <th>0</th>\n",
       "      <td>Aarav</td>\n",
       "      <td>Patil</td>\n",
       "      <td>85</td>\n",
       "      <td>78</td>\n",
       "      <td>90</td>\n",
       "      <td>92</td>\n",
       "    </tr>\n",
       "    <tr>\n",
       "      <th>1</th>\n",
       "      <td>Vihaan</td>\n",
       "      <td>Deshmukh</td>\n",
       "      <td>88</td>\n",
       "      <td>81</td>\n",
       "      <td>85</td>\n",
       "      <td>89</td>\n",
       "    </tr>\n",
       "    <tr>\n",
       "      <th>2</th>\n",
       "      <td>Ayaan</td>\n",
       "      <td>Jadhav</td>\n",
       "      <td>90</td>\n",
       "      <td>75</td>\n",
       "      <td>88</td>\n",
       "      <td>84</td>\n",
       "    </tr>\n",
       "    <tr>\n",
       "      <th>3</th>\n",
       "      <td>Arjun</td>\n",
       "      <td>More</td>\n",
       "      <td>76</td>\n",
       "      <td>89</td>\n",
       "      <td>91</td>\n",
       "      <td>78</td>\n",
       "    </tr>\n",
       "    <tr>\n",
       "      <th>4</th>\n",
       "      <td>Reyansh</td>\n",
       "      <td>Joshi</td>\n",
       "      <td>82</td>\n",
       "      <td>80</td>\n",
       "      <td>84</td>\n",
       "      <td>85</td>\n",
       "    </tr>\n",
       "  </tbody>\n",
       "</table>\n",
       "</div>"
      ],
      "text/plain": [
       "  First Name Last Name  English  Physics  Chemistry  Mathematics\n",
       "0      Aarav     Patil       85       78         90           92\n",
       "1     Vihaan  Deshmukh       88       81         85           89\n",
       "2      Ayaan    Jadhav       90       75         88           84\n",
       "3      Arjun      More       76       89         91           78\n",
       "4    Reyansh     Joshi       82       80         84           85"
      ]
     },
     "execution_count": 27,
     "metadata": {},
     "output_type": "execute_result"
    }
   ],
   "source": [
    "# Retrive multiple rows\n",
    "data2.loc[0:4]"
   ]
  },
  {
   "cell_type": "code",
   "execution_count": 10,
   "id": "fdfffacc-804d-40e9-9af5-d610ec36fee3",
   "metadata": {},
   "outputs": [
    {
     "data": {
      "text/plain": [
       "'Aarav'"
      ]
     },
     "execution_count": 10,
     "metadata": {},
     "output_type": "execute_result"
    }
   ],
   "source": [
    "data3.loc[0,0] "
   ]
  },
  {
   "cell_type": "code",
   "execution_count": 12,
   "id": "f3fcfad4-d677-493b-b157-0dd1ef8015e8",
   "metadata": {},
   "outputs": [
    {
     "data": {
      "text/plain": [
       "'Arjun'"
      ]
     },
     "execution_count": 12,
     "metadata": {},
     "output_type": "execute_result"
    }
   ],
   "source": [
    "data3.loc[3,0] "
   ]
  },
  {
   "cell_type": "code",
   "execution_count": 29,
   "id": "d6233c6f-2e87-49bb-804c-655aa41af7f9",
   "metadata": {},
   "outputs": [
    {
     "data": {
      "text/html": [
       "<div>\n",
       "<style scoped>\n",
       "    .dataframe tbody tr th:only-of-type {\n",
       "        vertical-align: middle;\n",
       "    }\n",
       "\n",
       "    .dataframe tbody tr th {\n",
       "        vertical-align: top;\n",
       "    }\n",
       "\n",
       "    .dataframe thead th {\n",
       "        text-align: right;\n",
       "    }\n",
       "</style>\n",
       "<table border=\"1\" class=\"dataframe\">\n",
       "  <thead>\n",
       "    <tr style=\"text-align: right;\">\n",
       "      <th></th>\n",
       "      <th>First Name</th>\n",
       "      <th>Last Name</th>\n",
       "      <th>English</th>\n",
       "      <th>Physics</th>\n",
       "      <th>Chemistry</th>\n",
       "      <th>Mathematics</th>\n",
       "    </tr>\n",
       "  </thead>\n",
       "  <tbody>\n",
       "    <tr>\n",
       "      <th>0</th>\n",
       "      <td>Aarav</td>\n",
       "      <td>Patil</td>\n",
       "      <td>85</td>\n",
       "      <td>78</td>\n",
       "      <td>90</td>\n",
       "      <td>92</td>\n",
       "    </tr>\n",
       "    <tr>\n",
       "      <th>1</th>\n",
       "      <td>Vihaan</td>\n",
       "      <td>Deshmukh</td>\n",
       "      <td>88</td>\n",
       "      <td>81</td>\n",
       "      <td>85</td>\n",
       "      <td>89</td>\n",
       "    </tr>\n",
       "    <tr>\n",
       "      <th>2</th>\n",
       "      <td>Ayaan</td>\n",
       "      <td>Jadhav</td>\n",
       "      <td>90</td>\n",
       "      <td>75</td>\n",
       "      <td>88</td>\n",
       "      <td>84</td>\n",
       "    </tr>\n",
       "    <tr>\n",
       "      <th>3</th>\n",
       "      <td>Arjun</td>\n",
       "      <td>More</td>\n",
       "      <td>76</td>\n",
       "      <td>89</td>\n",
       "      <td>91</td>\n",
       "      <td>78</td>\n",
       "    </tr>\n",
       "    <tr>\n",
       "      <th>4</th>\n",
       "      <td>Reyansh</td>\n",
       "      <td>Joshi</td>\n",
       "      <td>82</td>\n",
       "      <td>80</td>\n",
       "      <td>84</td>\n",
       "      <td>85</td>\n",
       "    </tr>\n",
       "  </tbody>\n",
       "</table>\n",
       "</div>"
      ],
      "text/plain": [
       "  First Name Last Name  English  Physics  Chemistry  Mathematics\n",
       "0      Aarav     Patil       85       78         90           92\n",
       "1     Vihaan  Deshmukh       88       81         85           89\n",
       "2      Ayaan    Jadhav       90       75         88           84\n",
       "3      Arjun      More       76       89         91           78\n",
       "4    Reyansh     Joshi       82       80         84           85"
      ]
     },
     "execution_count": 29,
     "metadata": {},
     "output_type": "execute_result"
    }
   ],
   "source": [
    "data2.loc[0:4] # last index included"
   ]
  },
  {
   "cell_type": "code",
   "execution_count": 30,
   "id": "c4177d0d-1971-4bcb-9d83-fd6b8ec79d1f",
   "metadata": {},
   "outputs": [
    {
     "data": {
      "text/html": [
       "<div>\n",
       "<style scoped>\n",
       "    .dataframe tbody tr th:only-of-type {\n",
       "        vertical-align: middle;\n",
       "    }\n",
       "\n",
       "    .dataframe tbody tr th {\n",
       "        vertical-align: top;\n",
       "    }\n",
       "\n",
       "    .dataframe thead th {\n",
       "        text-align: right;\n",
       "    }\n",
       "</style>\n",
       "<table border=\"1\" class=\"dataframe\">\n",
       "  <thead>\n",
       "    <tr style=\"text-align: right;\">\n",
       "      <th></th>\n",
       "      <th>First Name</th>\n",
       "      <th>Last Name</th>\n",
       "      <th>English</th>\n",
       "      <th>Physics</th>\n",
       "      <th>Chemistry</th>\n",
       "      <th>Mathematics</th>\n",
       "    </tr>\n",
       "  </thead>\n",
       "  <tbody>\n",
       "    <tr>\n",
       "      <th>0</th>\n",
       "      <td>Aarav</td>\n",
       "      <td>Patil</td>\n",
       "      <td>85</td>\n",
       "      <td>78</td>\n",
       "      <td>90</td>\n",
       "      <td>92</td>\n",
       "    </tr>\n",
       "    <tr>\n",
       "      <th>1</th>\n",
       "      <td>Vihaan</td>\n",
       "      <td>Deshmukh</td>\n",
       "      <td>88</td>\n",
       "      <td>81</td>\n",
       "      <td>85</td>\n",
       "      <td>89</td>\n",
       "    </tr>\n",
       "    <tr>\n",
       "      <th>2</th>\n",
       "      <td>Ayaan</td>\n",
       "      <td>Jadhav</td>\n",
       "      <td>90</td>\n",
       "      <td>75</td>\n",
       "      <td>88</td>\n",
       "      <td>84</td>\n",
       "    </tr>\n",
       "    <tr>\n",
       "      <th>3</th>\n",
       "      <td>Arjun</td>\n",
       "      <td>More</td>\n",
       "      <td>76</td>\n",
       "      <td>89</td>\n",
       "      <td>91</td>\n",
       "      <td>78</td>\n",
       "    </tr>\n",
       "  </tbody>\n",
       "</table>\n",
       "</div>"
      ],
      "text/plain": [
       "  First Name Last Name  English  Physics  Chemistry  Mathematics\n",
       "0      Aarav     Patil       85       78         90           92\n",
       "1     Vihaan  Deshmukh       88       81         85           89\n",
       "2      Ayaan    Jadhav       90       75         88           84\n",
       "3      Arjun      More       76       89         91           78"
      ]
     },
     "execution_count": 30,
     "metadata": {},
     "output_type": "execute_result"
    }
   ],
   "source": [
    "data2.iloc[0:4] # last index exclude"
   ]
  },
  {
   "cell_type": "code",
   "execution_count": 31,
   "id": "68279fd7-2fe6-40da-813e-5f6a3cec8702",
   "metadata": {},
   "outputs": [
    {
     "data": {
      "text/html": [
       "<div>\n",
       "<style scoped>\n",
       "    .dataframe tbody tr th:only-of-type {\n",
       "        vertical-align: middle;\n",
       "    }\n",
       "\n",
       "    .dataframe tbody tr th {\n",
       "        vertical-align: top;\n",
       "    }\n",
       "\n",
       "    .dataframe thead th {\n",
       "        text-align: right;\n",
       "    }\n",
       "</style>\n",
       "<table border=\"1\" class=\"dataframe\">\n",
       "  <thead>\n",
       "    <tr style=\"text-align: right;\">\n",
       "      <th></th>\n",
       "      <th>First Name</th>\n",
       "      <th>Last Name</th>\n",
       "      <th>Mathematics</th>\n",
       "    </tr>\n",
       "  </thead>\n",
       "  <tbody>\n",
       "    <tr>\n",
       "      <th>0</th>\n",
       "      <td>Aarav</td>\n",
       "      <td>Patil</td>\n",
       "      <td>92</td>\n",
       "    </tr>\n",
       "    <tr>\n",
       "      <th>1</th>\n",
       "      <td>Vihaan</td>\n",
       "      <td>Deshmukh</td>\n",
       "      <td>89</td>\n",
       "    </tr>\n",
       "    <tr>\n",
       "      <th>2</th>\n",
       "      <td>Ayaan</td>\n",
       "      <td>Jadhav</td>\n",
       "      <td>84</td>\n",
       "    </tr>\n",
       "    <tr>\n",
       "      <th>3</th>\n",
       "      <td>Arjun</td>\n",
       "      <td>More</td>\n",
       "      <td>78</td>\n",
       "    </tr>\n",
       "    <tr>\n",
       "      <th>4</th>\n",
       "      <td>Reyansh</td>\n",
       "      <td>Joshi</td>\n",
       "      <td>85</td>\n",
       "    </tr>\n",
       "  </tbody>\n",
       "</table>\n",
       "</div>"
      ],
      "text/plain": [
       "  First Name Last Name  Mathematics\n",
       "0      Aarav     Patil           92\n",
       "1     Vihaan  Deshmukh           89\n",
       "2      Ayaan    Jadhav           84\n",
       "3      Arjun      More           78\n",
       "4    Reyansh     Joshi           85"
      ]
     },
     "execution_count": 31,
     "metadata": {},
     "output_type": "execute_result"
    }
   ],
   "source": [
    "data2.loc[0:4,[\"First Name\",\"Last Name\",\"Mathematics\"]]"
   ]
  },
  {
   "cell_type": "code",
   "execution_count": null,
   "id": "96c97eac-5f06-4b4f-9eca-dc8a84c38858",
   "metadata": {},
   "outputs": [],
   "source": [
    "Excel ==>2D\n",
    "Indexing==> variable[row,column]\n",
    "3D\n",
    "Indexing==> variable[Frame,row,column]"
   ]
  },
  {
   "cell_type": "code",
   "execution_count": 34,
   "id": "b23dbf68-eaca-41df-96c9-923b59cc920b",
   "metadata": {},
   "outputs": [
    {
     "data": {
      "text/html": [
       "<div>\n",
       "<style scoped>\n",
       "    .dataframe tbody tr th:only-of-type {\n",
       "        vertical-align: middle;\n",
       "    }\n",
       "\n",
       "    .dataframe tbody tr th {\n",
       "        vertical-align: top;\n",
       "    }\n",
       "\n",
       "    .dataframe thead th {\n",
       "        text-align: right;\n",
       "    }\n",
       "</style>\n",
       "<table border=\"1\" class=\"dataframe\">\n",
       "  <thead>\n",
       "    <tr style=\"text-align: right;\">\n",
       "      <th></th>\n",
       "      <th>First Name</th>\n",
       "      <th>Last Name</th>\n",
       "      <th>Mathematics</th>\n",
       "    </tr>\n",
       "  </thead>\n",
       "  <tbody>\n",
       "    <tr>\n",
       "      <th>0</th>\n",
       "      <td>Aarav</td>\n",
       "      <td>Patil</td>\n",
       "      <td>92</td>\n",
       "    </tr>\n",
       "    <tr>\n",
       "      <th>1</th>\n",
       "      <td>Vihaan</td>\n",
       "      <td>Deshmukh</td>\n",
       "      <td>89</td>\n",
       "    </tr>\n",
       "    <tr>\n",
       "      <th>2</th>\n",
       "      <td>Ayaan</td>\n",
       "      <td>Jadhav</td>\n",
       "      <td>84</td>\n",
       "    </tr>\n",
       "    <tr>\n",
       "      <th>3</th>\n",
       "      <td>Arjun</td>\n",
       "      <td>More</td>\n",
       "      <td>78</td>\n",
       "    </tr>\n",
       "  </tbody>\n",
       "</table>\n",
       "</div>"
      ],
      "text/plain": [
       "  First Name Last Name  Mathematics\n",
       "0      Aarav     Patil           92\n",
       "1     Vihaan  Deshmukh           89\n",
       "2      Ayaan    Jadhav           84\n",
       "3      Arjun      More           78"
      ]
     },
     "execution_count": 34,
     "metadata": {},
     "output_type": "execute_result"
    }
   ],
   "source": [
    "data2.iloc[0:4,[0,1,5]]\n",
    "#          row   column"
   ]
  },
  {
   "cell_type": "code",
   "execution_count": 39,
   "id": "11f3c7d4-921f-47fe-b804-a9a2b7db59a7",
   "metadata": {},
   "outputs": [
    {
     "data": {
      "text/html": [
       "<div>\n",
       "<style scoped>\n",
       "    .dataframe tbody tr th:only-of-type {\n",
       "        vertical-align: middle;\n",
       "    }\n",
       "\n",
       "    .dataframe tbody tr th {\n",
       "        vertical-align: top;\n",
       "    }\n",
       "\n",
       "    .dataframe thead th {\n",
       "        text-align: right;\n",
       "    }\n",
       "</style>\n",
       "<table border=\"1\" class=\"dataframe\">\n",
       "  <thead>\n",
       "    <tr style=\"text-align: right;\">\n",
       "      <th></th>\n",
       "      <th>First Name</th>\n",
       "      <th>Last Name</th>\n",
       "    </tr>\n",
       "  </thead>\n",
       "  <tbody>\n",
       "    <tr>\n",
       "      <th>0</th>\n",
       "      <td>Aarav</td>\n",
       "      <td>Patil</td>\n",
       "    </tr>\n",
       "    <tr>\n",
       "      <th>1</th>\n",
       "      <td>Vihaan</td>\n",
       "      <td>Deshmukh</td>\n",
       "    </tr>\n",
       "    <tr>\n",
       "      <th>2</th>\n",
       "      <td>Ayaan</td>\n",
       "      <td>Jadhav</td>\n",
       "    </tr>\n",
       "    <tr>\n",
       "      <th>3</th>\n",
       "      <td>Arjun</td>\n",
       "      <td>More</td>\n",
       "    </tr>\n",
       "    <tr>\n",
       "      <th>4</th>\n",
       "      <td>Reyansh</td>\n",
       "      <td>Joshi</td>\n",
       "    </tr>\n",
       "  </tbody>\n",
       "</table>\n",
       "</div>"
      ],
      "text/plain": [
       "  First Name Last Name\n",
       "0      Aarav     Patil\n",
       "1     Vihaan  Deshmukh\n",
       "2      Ayaan    Jadhav\n",
       "3      Arjun      More\n",
       "4    Reyansh     Joshi"
      ]
     },
     "execution_count": 39,
     "metadata": {},
     "output_type": "execute_result"
    }
   ],
   "source": [
    "data2.loc[0:4][[\"First Name\",\"Last Name\"]]"
   ]
  },
  {
   "cell_type": "code",
   "execution_count": 33,
   "id": "4ae52c04-ffbf-4a15-bb0a-12452f9f4a35",
   "metadata": {},
   "outputs": [
    {
     "data": {
      "text/html": [
       "<div>\n",
       "<style scoped>\n",
       "    .dataframe tbody tr th:only-of-type {\n",
       "        vertical-align: middle;\n",
       "    }\n",
       "\n",
       "    .dataframe tbody tr th {\n",
       "        vertical-align: top;\n",
       "    }\n",
       "\n",
       "    .dataframe thead th {\n",
       "        text-align: right;\n",
       "    }\n",
       "</style>\n",
       "<table border=\"1\" class=\"dataframe\">\n",
       "  <thead>\n",
       "    <tr style=\"text-align: right;\">\n",
       "      <th></th>\n",
       "      <th>First Name</th>\n",
       "      <th>Last Name</th>\n",
       "      <th>English</th>\n",
       "      <th>Physics</th>\n",
       "      <th>Chemistry</th>\n",
       "      <th>Mathematics</th>\n",
       "    </tr>\n",
       "  </thead>\n",
       "  <tbody>\n",
       "    <tr>\n",
       "      <th>0</th>\n",
       "      <td>Aarav</td>\n",
       "      <td>Patil</td>\n",
       "      <td>85</td>\n",
       "      <td>78</td>\n",
       "      <td>90</td>\n",
       "      <td>92</td>\n",
       "    </tr>\n",
       "    <tr>\n",
       "      <th>1</th>\n",
       "      <td>Vihaan</td>\n",
       "      <td>Deshmukh</td>\n",
       "      <td>88</td>\n",
       "      <td>81</td>\n",
       "      <td>85</td>\n",
       "      <td>89</td>\n",
       "    </tr>\n",
       "    <tr>\n",
       "      <th>2</th>\n",
       "      <td>Ayaan</td>\n",
       "      <td>Jadhav</td>\n",
       "      <td>90</td>\n",
       "      <td>75</td>\n",
       "      <td>88</td>\n",
       "      <td>84</td>\n",
       "    </tr>\n",
       "    <tr>\n",
       "      <th>3</th>\n",
       "      <td>Arjun</td>\n",
       "      <td>More</td>\n",
       "      <td>76</td>\n",
       "      <td>89</td>\n",
       "      <td>91</td>\n",
       "      <td>78</td>\n",
       "    </tr>\n",
       "    <tr>\n",
       "      <th>4</th>\n",
       "      <td>Reyansh</td>\n",
       "      <td>Joshi</td>\n",
       "      <td>82</td>\n",
       "      <td>80</td>\n",
       "      <td>84</td>\n",
       "      <td>85</td>\n",
       "    </tr>\n",
       "    <tr>\n",
       "      <th>...</th>\n",
       "      <td>...</td>\n",
       "      <td>...</td>\n",
       "      <td>...</td>\n",
       "      <td>...</td>\n",
       "      <td>...</td>\n",
       "      <td>...</td>\n",
       "    </tr>\n",
       "    <tr>\n",
       "      <th>60</th>\n",
       "      <td>Tarun</td>\n",
       "      <td>Dhumal</td>\n",
       "      <td>82</td>\n",
       "      <td>87</td>\n",
       "      <td>81</td>\n",
       "      <td>85</td>\n",
       "    </tr>\n",
       "    <tr>\n",
       "      <th>61</th>\n",
       "      <td>Arnav</td>\n",
       "      <td>Khedkar</td>\n",
       "      <td>85</td>\n",
       "      <td>90</td>\n",
       "      <td>78</td>\n",
       "      <td>89</td>\n",
       "    </tr>\n",
       "    <tr>\n",
       "      <th>62</th>\n",
       "      <td>Payal</td>\n",
       "      <td>Patil</td>\n",
       "      <td>89</td>\n",
       "      <td>76</td>\n",
       "      <td>87</td>\n",
       "      <td>91</td>\n",
       "    </tr>\n",
       "    <tr>\n",
       "      <th>63</th>\n",
       "      <td>Rahul</td>\n",
       "      <td>Kadam</td>\n",
       "      <td>81</td>\n",
       "      <td>83</td>\n",
       "      <td>84</td>\n",
       "      <td>90</td>\n",
       "    </tr>\n",
       "    <tr>\n",
       "      <th>64</th>\n",
       "      <td>Jay</td>\n",
       "      <td>Bhagat</td>\n",
       "      <td>90</td>\n",
       "      <td>77</td>\n",
       "      <td>65</td>\n",
       "      <td>88</td>\n",
       "    </tr>\n",
       "  </tbody>\n",
       "</table>\n",
       "<p>65 rows × 6 columns</p>\n",
       "</div>"
      ],
      "text/plain": [
       "   First Name Last Name  English  Physics  Chemistry  Mathematics\n",
       "0       Aarav     Patil       85       78         90           92\n",
       "1      Vihaan  Deshmukh       88       81         85           89\n",
       "2       Ayaan    Jadhav       90       75         88           84\n",
       "3       Arjun      More       76       89         91           78\n",
       "4     Reyansh     Joshi       82       80         84           85\n",
       "..        ...       ...      ...      ...        ...          ...\n",
       "60      Tarun    Dhumal       82       87         81           85\n",
       "61      Arnav   Khedkar       85       90         78           89\n",
       "62      Payal     Patil       89       76         87           91\n",
       "63      Rahul     Kadam       81       83         84           90\n",
       "64        Jay    Bhagat       90       77         65           88\n",
       "\n",
       "[65 rows x 6 columns]"
      ]
     },
     "execution_count": 33,
     "metadata": {},
     "output_type": "execute_result"
    }
   ],
   "source": [
    "data2"
   ]
  },
  {
   "cell_type": "code",
   "execution_count": null,
   "id": "23c2d8a5-9e1b-4d10-a5dc-0be7eb55924e",
   "metadata": {},
   "outputs": [],
   "source": [
    "data2.loc[0:3][\"First Name\"]"
   ]
  },
  {
   "cell_type": "code",
   "execution_count": null,
   "id": "854c2bac-2964-4e51-a053-eae560001548",
   "metadata": {},
   "outputs": [],
   "source": [
    "data2.loc[0:3][[\"First Name\",\"Last Name\"]]  # Select specific columns"
   ]
  },
  {
   "cell_type": "code",
   "execution_count": null,
   "id": "396c1d91-316b-4c13-ba4a-b9318a127834",
   "metadata": {},
   "outputs": [],
   "source": [
    "data2.loc[0:3 , [\"First Name\",\"Last Name\"]]"
   ]
  },
  {
   "cell_type": "code",
   "execution_count": null,
   "id": "40d83451-a4ab-4ef2-aee9-4a019989c40f",
   "metadata": {},
   "outputs": [],
   "source": [
    "data2.loc[0:3 , [0:2]] # loc :label-based slicing:Selecting rows and columns using labels"
   ]
  },
  {
   "cell_type": "code",
   "execution_count": null,
   "id": "1d03d929-3957-48f3-8789-9d7c407c48c0",
   "metadata": {},
   "outputs": [],
   "source": []
  },
  {
   "cell_type": "code",
   "execution_count": null,
   "id": "5cd0bc28-dd5a-49aa-b7e6-78d12e849fab",
   "metadata": {},
   "outputs": [],
   "source": [
    "# iloc"
   ]
  },
  {
   "cell_type": "code",
   "execution_count": null,
   "id": "62a8a388-29ea-4ad5-981f-917c0231aba4",
   "metadata": {},
   "outputs": [],
   "source": [
    "data2.iloc[0]  # positional slicing:Selecting rows and columns by integer position"
   ]
  },
  {
   "cell_type": "code",
   "execution_count": null,
   "id": "405f4e69-c9be-44fb-9774-2def9bd669c2",
   "metadata": {},
   "outputs": [],
   "source": [
    "data3.iloc[0] "
   ]
  },
  {
   "cell_type": "code",
   "execution_count": null,
   "id": "051a6cbf-0d51-4eee-8472-f960e4ee6a6d",
   "metadata": {},
   "outputs": [],
   "source": [
    "data2.iloc[0:3] # last index excluded"
   ]
  },
  {
   "cell_type": "code",
   "execution_count": null,
   "id": "a9291fac-6f89-4700-a41e-42b3389320d4",
   "metadata": {},
   "outputs": [],
   "source": [
    "data2.iloc[0:3 , [\"First Name\",\"Last Name\"]]"
   ]
  },
  {
   "cell_type": "code",
   "execution_count": null,
   "id": "a9968faf-0726-4e9a-aac7-c151f4d320fe",
   "metadata": {},
   "outputs": [],
   "source": [
    "data2.iloc[0:3 , 0:2]"
   ]
  },
  {
   "cell_type": "code",
   "execution_count": null,
   "id": "632064dd-1d5f-4d00-8baa-19fc94989714",
   "metadata": {},
   "outputs": [],
   "source": [
    "# at: Accessing a single value\n",
    "data2.at[1, 'First Name']"
   ]
  }
 ],
 "metadata": {
  "kernelspec": {
   "display_name": "Python 3 (ipykernel)",
   "language": "python",
   "name": "python3"
  },
  "language_info": {
   "codemirror_mode": {
    "name": "ipython",
    "version": 3
   },
   "file_extension": ".py",
   "mimetype": "text/x-python",
   "name": "python",
   "nbconvert_exporter": "python",
   "pygments_lexer": "ipython3",
   "version": "3.9.7"
  }
 },
 "nbformat": 4,
 "nbformat_minor": 5
}
