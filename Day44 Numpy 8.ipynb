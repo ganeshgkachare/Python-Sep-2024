{
 "cells": [
  {
   "cell_type": "markdown",
   "id": "5c7d4126",
   "metadata": {},
   "source": [
    "### Indexing and slicing NumPy arrays:"
   ]
  },
  {
   "cell_type": "code",
   "execution_count": 102,
   "id": "cae0098f",
   "metadata": {},
   "outputs": [],
   "source": [
    "import numpy as np"
   ]
  },
  {
   "cell_type": "code",
   "execution_count": 103,
   "id": "fe29bcbd",
   "metadata": {},
   "outputs": [],
   "source": [
    "arr=np.arange(1,11)"
   ]
  },
  {
   "cell_type": "code",
   "execution_count": 104,
   "id": "5e5dd26e",
   "metadata": {},
   "outputs": [
    {
     "data": {
      "text/plain": [
       "array([ 1,  2,  3,  4,  5,  6,  7,  8,  9, 10])"
      ]
     },
     "execution_count": 104,
     "metadata": {},
     "output_type": "execute_result"
    }
   ],
   "source": [
    "arr"
   ]
  },
  {
   "cell_type": "code",
   "execution_count": 110,
   "id": "d8b8f50b",
   "metadata": {},
   "outputs": [
    {
     "data": {
      "text/plain": [
       "1"
      ]
     },
     "execution_count": 110,
     "metadata": {},
     "output_type": "execute_result"
    }
   ],
   "source": [
    "arr[0]"
   ]
  },
  {
   "cell_type": "code",
   "execution_count": 106,
   "id": "3bc092da",
   "metadata": {},
   "outputs": [
    {
     "data": {
      "text/plain": [
       "array([2, 3, 4])"
      ]
     },
     "execution_count": 106,
     "metadata": {},
     "output_type": "execute_result"
    }
   ],
   "source": [
    "arr[1:4]"
   ]
  },
  {
   "cell_type": "code",
   "execution_count": 107,
   "id": "cb5763f4",
   "metadata": {},
   "outputs": [
    {
     "data": {
      "text/plain": [
       "array([2, 4])"
      ]
     },
     "execution_count": 107,
     "metadata": {},
     "output_type": "execute_result"
    }
   ],
   "source": [
    "arr[1:4:2]"
   ]
  },
  {
   "cell_type": "code",
   "execution_count": 108,
   "id": "b1c8a00a",
   "metadata": {},
   "outputs": [
    {
     "data": {
      "text/plain": [
       "array([ 1,  2,  3,  4,  5,  6,  7,  8,  9, 10])"
      ]
     },
     "execution_count": 108,
     "metadata": {},
     "output_type": "execute_result"
    }
   ],
   "source": [
    "arr[:]"
   ]
  },
  {
   "cell_type": "code",
   "execution_count": 109,
   "id": "34a018b1",
   "metadata": {},
   "outputs": [
    {
     "data": {
      "text/plain": [
       "array([10,  9,  8,  7,  6,  5,  4,  3,  2,  1])"
      ]
     },
     "execution_count": 109,
     "metadata": {},
     "output_type": "execute_result"
    }
   ],
   "source": [
    "arr[::-1]"
   ]
  },
  {
   "cell_type": "code",
   "execution_count": null,
   "id": "900b1543",
   "metadata": {},
   "outputs": [],
   "source": []
  },
  {
   "cell_type": "code",
   "execution_count": null,
   "id": "d8e6004f",
   "metadata": {},
   "outputs": [],
   "source": []
  },
  {
   "cell_type": "markdown",
   "id": "bb799ccc",
   "metadata": {},
   "source": [
    "## Indexing and Slicing multi-dimensional arrays"
   ]
  },
  {
   "cell_type": "code",
   "execution_count": 111,
   "id": "13ab8cfa",
   "metadata": {},
   "outputs": [],
   "source": [
    "import numpy as np"
   ]
  },
  {
   "cell_type": "code",
   "execution_count": 112,
   "id": "fd29669f",
   "metadata": {},
   "outputs": [],
   "source": [
    "arr=np.arange(2,42,2)"
   ]
  },
  {
   "cell_type": "code",
   "execution_count": 113,
   "id": "da89089a",
   "metadata": {},
   "outputs": [
    {
     "data": {
      "text/plain": [
       "array([ 2,  4,  6,  8, 10, 12, 14, 16, 18, 20, 22, 24, 26, 28, 30, 32, 34,\n",
       "       36, 38, 40])"
      ]
     },
     "execution_count": 113,
     "metadata": {},
     "output_type": "execute_result"
    }
   ],
   "source": [
    "arr"
   ]
  },
  {
   "cell_type": "code",
   "execution_count": 114,
   "id": "e08d1477",
   "metadata": {},
   "outputs": [
    {
     "data": {
      "text/plain": [
       "20"
      ]
     },
     "execution_count": 114,
     "metadata": {},
     "output_type": "execute_result"
    }
   ],
   "source": [
    "arr.size"
   ]
  },
  {
   "cell_type": "code",
   "execution_count": 115,
   "id": "ccc7682f",
   "metadata": {},
   "outputs": [],
   "source": [
    "b=arr.reshape(4,5)"
   ]
  },
  {
   "cell_type": "code",
   "execution_count": 116,
   "id": "b9badb79",
   "metadata": {},
   "outputs": [
    {
     "data": {
      "text/plain": [
       "array([[ 2,  4,  6,  8, 10],\n",
       "       [12, 14, 16, 18, 20],\n",
       "       [22, 24, 26, 28, 30],\n",
       "       [32, 34, 36, 38, 40]])"
      ]
     },
     "execution_count": 116,
     "metadata": {},
     "output_type": "execute_result"
    }
   ],
   "source": [
    "b"
   ]
  },
  {
   "cell_type": "code",
   "execution_count": null,
   "id": "f43f9f1c",
   "metadata": {},
   "outputs": [],
   "source": [
    "print(b)"
   ]
  },
  {
   "cell_type": "code",
   "execution_count": null,
   "id": "f61471ab",
   "metadata": {},
   "outputs": [],
   "source": [
    "#             -5 -4  -3 -2 -1\n",
    "# Rows Columns 0  1  2  3  4  \n",
    "#    0      [[ 2  4  6  8 10]\n",
    "#    1       [12 14 16 18 20]\n",
    "#    2       [22 24 26 28 30]\n",
    "#    3       [32 34 36 38 40]]"
   ]
  },
  {
   "cell_type": "code",
   "execution_count": 135,
   "id": "a62a441b",
   "metadata": {},
   "outputs": [
    {
     "data": {
      "text/plain": [
       "array([10, 20, 30, 40])"
      ]
     },
     "execution_count": 135,
     "metadata": {},
     "output_type": "execute_result"
    }
   ],
   "source": [
    "b[: ,-1]"
   ]
  },
  {
   "cell_type": "code",
   "execution_count": 133,
   "id": "d52fb672",
   "metadata": {},
   "outputs": [
    {
     "data": {
      "text/plain": [
       "array([40, 30, 20, 10])"
      ]
     },
     "execution_count": 133,
     "metadata": {},
     "output_type": "execute_result"
    }
   ],
   "source": [
    "b[: : -1,-1]"
   ]
  },
  {
   "cell_type": "code",
   "execution_count": 140,
   "id": "13d7a06a",
   "metadata": {},
   "outputs": [
    {
     "data": {
      "text/plain": [
       "array([40, 30, 20])"
      ]
     },
     "execution_count": 140,
     "metadata": {},
     "output_type": "execute_result"
    }
   ],
   "source": [
    "b[4:0:-1 , -1]"
   ]
  },
  {
   "cell_type": "code",
   "execution_count": 120,
   "id": "c52c30bc",
   "metadata": {},
   "outputs": [],
   "source": [
    "# Multiple dimension array: 2D\n",
    "# M1) variable_name[row,column]\n",
    "# M2) variable_name[row][column]"
   ]
  },
  {
   "cell_type": "code",
   "execution_count": null,
   "id": "dbc0a844",
   "metadata": {},
   "outputs": [],
   "source": [
    "# Multiple dimension array:3D\n",
    "# M1) variable_name[Frame,row,column]\n",
    "# M2) variable_name[Frame][row][column]"
   ]
  },
  {
   "cell_type": "code",
   "execution_count": 122,
   "id": "35d3cfde",
   "metadata": {},
   "outputs": [
    {
     "data": {
      "text/plain": [
       "36"
      ]
     },
     "execution_count": 122,
     "metadata": {},
     "output_type": "execute_result"
    }
   ],
   "source": [
    "#36\n",
    "# M1)\n",
    "b[3,2]\n"
   ]
  },
  {
   "cell_type": "code",
   "execution_count": 123,
   "id": "ba97fa62",
   "metadata": {},
   "outputs": [
    {
     "data": {
      "text/plain": [
       "36"
      ]
     },
     "execution_count": 123,
     "metadata": {},
     "output_type": "execute_result"
    }
   ],
   "source": [
    "#36\n",
    "# M2)\n",
    "b[3][2]"
   ]
  },
  {
   "cell_type": "code",
   "execution_count": null,
   "id": "55e2b9cc",
   "metadata": {},
   "outputs": [],
   "source": [
    "# 6   8\n",
    "# 16  18\n",
    "b[0,2:4]"
   ]
  },
  {
   "cell_type": "code",
   "execution_count": 125,
   "id": "a8f88c08",
   "metadata": {},
   "outputs": [
    {
     "data": {
      "text/plain": [
       "array([[ 6,  8],\n",
       "       [16, 18]])"
      ]
     },
     "execution_count": 125,
     "metadata": {},
     "output_type": "execute_result"
    }
   ],
   "source": [
    "# 6  8\n",
    "b[0:2,2:4]\n",
    "\n",
    "b[0:2][2:4]"
   ]
  },
  {
   "cell_type": "code",
   "execution_count": 129,
   "id": "901c9715",
   "metadata": {},
   "outputs": [
    {
     "data": {
      "text/plain": [
       "array([32, 34, 36, 38, 40])"
      ]
     },
     "execution_count": 129,
     "metadata": {},
     "output_type": "execute_result"
    }
   ],
   "source": [
    "b[-1]"
   ]
  },
  {
   "cell_type": "code",
   "execution_count": 130,
   "id": "8e50ab9e",
   "metadata": {},
   "outputs": [
    {
     "data": {
      "text/plain": [
       "array([10, 20, 30, 40])"
      ]
     },
     "execution_count": 130,
     "metadata": {},
     "output_type": "execute_result"
    }
   ],
   "source": [
    "b[:,-1]"
   ]
  },
  {
   "cell_type": "code",
   "execution_count": null,
   "id": "86688f63",
   "metadata": {},
   "outputs": [],
   "source": []
  },
  {
   "cell_type": "code",
   "execution_count": 128,
   "id": "9a9a968d",
   "metadata": {},
   "outputs": [
    {
     "data": {
      "text/plain": [
       "array([40, 30, 20, 10])"
      ]
     },
     "execution_count": 128,
     "metadata": {},
     "output_type": "execute_result"
    }
   ],
   "source": [
    "b[: : -1,-1]"
   ]
  },
  {
   "cell_type": "code",
   "execution_count": 131,
   "id": "130e4df2",
   "metadata": {},
   "outputs": [],
   "source": [
    "c=[10, 20, 30, 40]"
   ]
  },
  {
   "cell_type": "code",
   "execution_count": 132,
   "id": "fef86aec",
   "metadata": {},
   "outputs": [
    {
     "data": {
      "text/plain": [
       "[40, 30, 20, 10]"
      ]
     },
     "execution_count": 132,
     "metadata": {},
     "output_type": "execute_result"
    }
   ],
   "source": [
    "c[: : -1]"
   ]
  },
  {
   "cell_type": "code",
   "execution_count": 137,
   "id": "f6a588d8",
   "metadata": {},
   "outputs": [
    {
     "data": {
      "text/plain": [
       "[]"
      ]
     },
     "execution_count": 137,
     "metadata": {},
     "output_type": "execute_result"
    }
   ],
   "source": [
    "c[0:4 : -1]"
   ]
  },
  {
   "cell_type": "code",
   "execution_count": 138,
   "id": "f8cfe6db",
   "metadata": {},
   "outputs": [
    {
     "data": {
      "text/plain": [
       "[40, 30, 20, 10]"
      ]
     },
     "execution_count": 138,
     "metadata": {},
     "output_type": "execute_result"
    }
   ],
   "source": [
    "c[4: : -1]"
   ]
  },
  {
   "cell_type": "code",
   "execution_count": null,
   "id": "4a38c8ea",
   "metadata": {},
   "outputs": [],
   "source": [
    "# # Retrive following value from array b\n",
    "# 1) 14\n",
    "# 2) 28\n",
    "# 3) 6\n",
    "# 4) 34\n",
    "\n",
    "# 5) 24,26,28\n",
    "\n",
    "# 6) 14,16\n",
    "#    24,26\n",
    "\n",
    "# 7)[22, 24, 26, 28, 30]\n",
    "#   [32, 34, 36, 38, 40]\n",
    "    \n",
    "# 8) 4\n",
    "#    14\n",
    "#     24\n",
    "#     34"
   ]
  },
  {
   "cell_type": "code",
   "execution_count": 117,
   "id": "e24b0cad",
   "metadata": {},
   "outputs": [
    {
     "data": {
      "text/plain": [
       "array([[ 2,  4,  6,  8, 10],\n",
       "       [12, 14, 16, 18, 20],\n",
       "       [22, 24, 26, 28, 30],\n",
       "       [32, 34, 36, 38, 40]])"
      ]
     },
     "execution_count": 117,
     "metadata": {},
     "output_type": "execute_result"
    }
   ],
   "source": [
    "b"
   ]
  },
  {
   "cell_type": "code",
   "execution_count": 144,
   "id": "26973009",
   "metadata": {},
   "outputs": [
    {
     "data": {
      "text/plain": [
       "array([ 2,  4,  6,  8, 10])"
      ]
     },
     "execution_count": 144,
     "metadata": {},
     "output_type": "execute_result"
    }
   ],
   "source": [
    "b[0] #first row (index position 0)"
   ]
  },
  {
   "cell_type": "code",
   "execution_count": 145,
   "id": "2c19c857",
   "metadata": {},
   "outputs": [
    {
     "data": {
      "text/plain": [
       "array([12, 14, 16, 18, 20])"
      ]
     },
     "execution_count": 145,
     "metadata": {},
     "output_type": "execute_result"
    }
   ],
   "source": [
    "b[1] #second row (index position 1)"
   ]
  },
  {
   "cell_type": "code",
   "execution_count": 146,
   "id": "1e1c0d05",
   "metadata": {},
   "outputs": [
    {
     "data": {
      "text/plain": [
       "array([22, 24, 26, 28, 30])"
      ]
     },
     "execution_count": 146,
     "metadata": {},
     "output_type": "execute_result"
    }
   ],
   "source": [
    "b[2] #third row (index position 2)"
   ]
  },
  {
   "cell_type": "code",
   "execution_count": 147,
   "id": "0a88fa23",
   "metadata": {},
   "outputs": [
    {
     "data": {
      "text/plain": [
       "array([32, 34, 36, 38, 40])"
      ]
     },
     "execution_count": 147,
     "metadata": {},
     "output_type": "execute_result"
    }
   ],
   "source": [
    "b[-1] #last row (index position -1)"
   ]
  },
  {
   "cell_type": "code",
   "execution_count": 148,
   "id": "1eda445a",
   "metadata": {},
   "outputs": [
    {
     "data": {
      "text/plain": [
       "14"
      ]
     },
     "execution_count": 148,
     "metadata": {},
     "output_type": "execute_result"
    }
   ],
   "source": [
    "b[1][1] #second row, second column"
   ]
  },
  {
   "cell_type": "code",
   "execution_count": 149,
   "id": "60f95458",
   "metadata": {},
   "outputs": [
    {
     "data": {
      "text/plain": [
       "14"
      ]
     },
     "execution_count": 149,
     "metadata": {},
     "output_type": "execute_result"
    }
   ],
   "source": [
    "b[1,1] #more convenient in one square bracket"
   ]
  },
  {
   "cell_type": "code",
   "execution_count": 150,
   "id": "f7d45059",
   "metadata": {},
   "outputs": [
    {
     "data": {
      "text/plain": [
       "30"
      ]
     },
     "execution_count": 150,
     "metadata": {},
     "output_type": "execute_result"
    }
   ],
   "source": [
    "b[2,-1] #third row, last column"
   ]
  },
  {
   "cell_type": "code",
   "execution_count": 151,
   "id": "971da503",
   "metadata": {},
   "outputs": [
    {
     "data": {
      "text/plain": [
       "array([ 2, 12, 22, 32])"
      ]
     },
     "execution_count": 151,
     "metadata": {},
     "output_type": "execute_result"
    }
   ],
   "source": [
    "b[:,0] #all rows, first column"
   ]
  },
  {
   "cell_type": "code",
   "execution_count": 152,
   "id": "1d56d48a",
   "metadata": {},
   "outputs": [
    {
     "data": {
      "text/plain": [
       "array([ 4, 14, 24, 34])"
      ]
     },
     "execution_count": 152,
     "metadata": {},
     "output_type": "execute_result"
    }
   ],
   "source": [
    "b[:,1] #all rows, second column"
   ]
  },
  {
   "cell_type": "code",
   "execution_count": 153,
   "id": "955b43c0",
   "metadata": {},
   "outputs": [
    {
     "data": {
      "text/plain": [
       "array([10, 20, 30, 40])"
      ]
     },
     "execution_count": 153,
     "metadata": {},
     "output_type": "execute_result"
    }
   ],
   "source": [
    "b[:,-1] #all rows, last column"
   ]
  },
  {
   "cell_type": "code",
   "execution_count": 154,
   "id": "0d8dd1fd",
   "metadata": {},
   "outputs": [
    {
     "data": {
      "text/plain": [
       "array([[ 4,  6],\n",
       "       [14, 16]])"
      ]
     },
     "execution_count": 154,
     "metadata": {},
     "output_type": "execute_result"
    }
   ],
   "source": [
    "b[:2,1:3] #first two rows, column two and three"
   ]
  }
 ],
 "metadata": {
  "kernelspec": {
   "display_name": "Python 3 (ipykernel)",
   "language": "python",
   "name": "python3"
  },
  "language_info": {
   "codemirror_mode": {
    "name": "ipython",
    "version": 3
   },
   "file_extension": ".py",
   "mimetype": "text/x-python",
   "name": "python",
   "nbconvert_exporter": "python",
   "pygments_lexer": "ipython3",
   "version": "3.9.7"
  }
 },
 "nbformat": 4,
 "nbformat_minor": 5
}
